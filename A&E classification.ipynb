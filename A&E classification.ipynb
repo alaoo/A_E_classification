{
 "cells": [
  {
   "cell_type": "code",
   "execution_count": null,
   "id": "121e70ac",
   "metadata": {
    "papermill": {
     "duration": 0.021011,
     "end_time": "2023-08-20T14:07:21.919749",
     "exception": false,
     "start_time": "2023-08-20T14:07:21.898738",
     "status": "completed"
    },
    "tags": []
   },
   "outputs": [],
   "source": []
  },
  {
   "cell_type": "markdown",
   "id": "37175b5f",
   "metadata": {
    "papermill": {
     "duration": 0.020473,
     "end_time": "2023-08-20T14:07:21.961105",
     "exception": false,
     "start_time": "2023-08-20T14:07:21.940632",
     "status": "completed"
    },
    "tags": []
   },
   "source": [
    "**INTRODUCTION**"
   ]
  },
  {
   "cell_type": "markdown",
   "id": "7f079aac",
   "metadata": {
    "papermill": {
     "duration": 0.021515,
     "end_time": "2023-08-20T14:07:22.003121",
     "exception": false,
     "start_time": "2023-08-20T14:07:21.981606",
     "status": "completed"
    },
    "tags": []
   },
   "source": [
    " **RUNNING BASIC LIBRARIES**"
   ]
  },
  {
   "cell_type": "code",
   "execution_count": 1,
   "id": "564e1d44",
   "metadata": {
    "execution": {
     "iopub.execute_input": "2023-08-20T14:07:22.046479Z",
     "iopub.status.busy": "2023-08-20T14:07:22.046123Z",
     "iopub.status.idle": "2023-08-20T14:07:24.058418Z",
     "shell.execute_reply": "2023-08-20T14:07:24.057252Z"
    },
    "papermill": {
     "duration": 2.037365,
     "end_time": "2023-08-20T14:07:24.061019",
     "exception": false,
     "start_time": "2023-08-20T14:07:22.023654",
     "status": "completed"
    },
    "tags": []
   },
   "outputs": [
    {
     "name": "stderr",
     "output_type": "stream",
     "text": [
      "/opt/conda/lib/python3.10/site-packages/scipy/__init__.py:146: UserWarning: A NumPy version >=1.16.5 and <1.23.0 is required for this version of SciPy (detected version 1.23.5\n",
      "  warnings.warn(f\"A NumPy version >={np_minversion} and <{np_maxversion}\"\n"
     ]
    }
   ],
   "source": [
    "#import libraries\n",
    "\n",
    "#data wrangling and pre-processing\n",
    "import numpy as np\n",
    "import pandas as pd\n",
    "\n",
    "#Data Visualization\n",
    "import seaborn as sns\n",
    "import matplotlib.pyplot as plt\n",
    "%matplotlib inline\n",
    "import plotly.express as px\n",
    "import plotly.graph_objects as go\n",
    "import seaborn as sns\n",
    "import matplotlib.pyplot as plt"
   ]
  },
  {
   "cell_type": "markdown",
   "id": "59d18425",
   "metadata": {
    "papermill": {
     "duration": 0.022228,
     "end_time": "2023-08-20T14:07:24.105760",
     "exception": false,
     "start_time": "2023-08-20T14:07:24.083532",
     "status": "completed"
    },
    "tags": []
   },
   "source": [
    "**2.1. Undertanding The Dataset**"
   ]
  },
  {
   "cell_type": "code",
   "execution_count": 2,
   "id": "84ef213b",
   "metadata": {
    "execution": {
     "iopub.execute_input": "2023-08-20T14:07:24.152801Z",
     "iopub.status.busy": "2023-08-20T14:07:24.152395Z",
     "iopub.status.idle": "2023-08-20T14:07:24.509217Z",
     "shell.execute_reply": "2023-08-20T14:07:24.508362Z"
    },
    "papermill": {
     "duration": 0.384175,
     "end_time": "2023-08-20T14:07:24.511701",
     "exception": false,
     "start_time": "2023-08-20T14:07:24.127526",
     "status": "completed"
    },
    "tags": []
   },
   "outputs": [],
   "source": [
    "import pandas as pd \n",
    "\n",
    "ae = pd.read_csv('/kaggle/input/bip-ae-technical-challenge/training_set.csv')"
   ]
  },
  {
   "cell_type": "code",
   "execution_count": 3,
   "id": "a455ca8a",
   "metadata": {
    "execution": {
     "iopub.execute_input": "2023-08-20T14:07:24.556189Z",
     "iopub.status.busy": "2023-08-20T14:07:24.555301Z",
     "iopub.status.idle": "2023-08-20T14:07:24.584287Z",
     "shell.execute_reply": "2023-08-20T14:07:24.583208Z"
    },
    "papermill": {
     "duration": 0.054247,
     "end_time": "2023-08-20T14:07:24.586399",
     "exception": false,
     "start_time": "2023-08-20T14:07:24.532152",
     "status": "completed"
    },
    "tags": []
   },
   "outputs": [
    {
     "data": {
      "text/html": [
       "<div>\n",
       "<style scoped>\n",
       "    .dataframe tbody tr th:only-of-type {\n",
       "        vertical-align: middle;\n",
       "    }\n",
       "\n",
       "    .dataframe tbody tr th {\n",
       "        vertical-align: top;\n",
       "    }\n",
       "\n",
       "    .dataframe thead th {\n",
       "        text-align: right;\n",
       "    }\n",
       "</style>\n",
       "<table border=\"1\" class=\"dataframe\">\n",
       "  <thead>\n",
       "    <tr style=\"text-align: right;\">\n",
       "      <th></th>\n",
       "      <th>IMD_Decile_From_LSOA</th>\n",
       "      <th>Age_Band</th>\n",
       "      <th>Sex</th>\n",
       "      <th>AE_Arrive_Date</th>\n",
       "      <th>AE_Arrive_HourOfDay</th>\n",
       "      <th>AE_Time_Mins</th>\n",
       "      <th>AE_HRG</th>\n",
       "      <th>AE_Num_Diagnoses</th>\n",
       "      <th>AE_Num_Investigations</th>\n",
       "      <th>AE_Num_Treatments</th>\n",
       "      <th>AE_Arrival_Mode</th>\n",
       "      <th>Provider_Patient_Distance_Miles</th>\n",
       "      <th>ProvID</th>\n",
       "      <th>Admitted_Flag</th>\n",
       "      <th>ICD10_Chapter_Code</th>\n",
       "      <th>Treatment_Function_Code</th>\n",
       "      <th>Length_Of_Stay_Days</th>\n",
       "      <th>Record_ID</th>\n",
       "    </tr>\n",
       "  </thead>\n",
       "  <tbody>\n",
       "    <tr>\n",
       "      <th>0</th>\n",
       "      <td>7.0</td>\n",
       "      <td>18-24</td>\n",
       "      <td>2.0</td>\n",
       "      <td>2016-02-15T00:00:00Z</td>\n",
       "      <td>01-04</td>\n",
       "      <td>650</td>\n",
       "      <td>Low</td>\n",
       "      <td>2</td>\n",
       "      <td>2</td>\n",
       "      <td>1</td>\n",
       "      <td>1</td>\n",
       "      <td>8.0</td>\n",
       "      <td>15149</td>\n",
       "      <td>0</td>\n",
       "      <td>NaN</td>\n",
       "      <td>NaN</td>\n",
       "      <td>NaN</td>\n",
       "      <td>765388</td>\n",
       "    </tr>\n",
       "    <tr>\n",
       "      <th>1</th>\n",
       "      <td>7.0</td>\n",
       "      <td>1-17</td>\n",
       "      <td>2.0</td>\n",
       "      <td>2016-03-12T00:00:00Z</td>\n",
       "      <td>21-24</td>\n",
       "      <td>200</td>\n",
       "      <td>Low</td>\n",
       "      <td>1</td>\n",
       "      <td>1</td>\n",
       "      <td>1</td>\n",
       "      <td>2</td>\n",
       "      <td>1.0</td>\n",
       "      <td>15099</td>\n",
       "      <td>0</td>\n",
       "      <td>NaN</td>\n",
       "      <td>NaN</td>\n",
       "      <td>NaN</td>\n",
       "      <td>774977</td>\n",
       "    </tr>\n",
       "    <tr>\n",
       "      <th>2</th>\n",
       "      <td>2.0</td>\n",
       "      <td>45-64</td>\n",
       "      <td>2.0</td>\n",
       "      <td>2016-06-22T00:00:00Z</td>\n",
       "      <td>13-16</td>\n",
       "      <td>40</td>\n",
       "      <td>Low</td>\n",
       "      <td>1</td>\n",
       "      <td>1</td>\n",
       "      <td>4</td>\n",
       "      <td>2</td>\n",
       "      <td>1.0</td>\n",
       "      <td>15194</td>\n",
       "      <td>0</td>\n",
       "      <td>NaN</td>\n",
       "      <td>NaN</td>\n",
       "      <td>NaN</td>\n",
       "      <td>769250</td>\n",
       "    </tr>\n",
       "    <tr>\n",
       "      <th>3</th>\n",
       "      <td>1.0</td>\n",
       "      <td>85+</td>\n",
       "      <td>2.0</td>\n",
       "      <td>2015-04-14T00:00:00Z</td>\n",
       "      <td>17-20</td>\n",
       "      <td>110</td>\n",
       "      <td>Low</td>\n",
       "      <td>1</td>\n",
       "      <td>1</td>\n",
       "      <td>2</td>\n",
       "      <td>1</td>\n",
       "      <td>1.0</td>\n",
       "      <td>15260</td>\n",
       "      <td>1</td>\n",
       "      <td>IX</td>\n",
       "      <td>300</td>\n",
       "      <td>42.0</td>\n",
       "      <td>795829</td>\n",
       "    </tr>\n",
       "    <tr>\n",
       "      <th>4</th>\n",
       "      <td>3.0</td>\n",
       "      <td>18-24</td>\n",
       "      <td>1.0</td>\n",
       "      <td>2014-07-06T00:00:00Z</td>\n",
       "      <td>13-16</td>\n",
       "      <td>60</td>\n",
       "      <td>Low</td>\n",
       "      <td>1</td>\n",
       "      <td>2</td>\n",
       "      <td>2</td>\n",
       "      <td>2</td>\n",
       "      <td>2.0</td>\n",
       "      <td>15105</td>\n",
       "      <td>0</td>\n",
       "      <td>NaN</td>\n",
       "      <td>NaN</td>\n",
       "      <td>NaN</td>\n",
       "      <td>732712</td>\n",
       "    </tr>\n",
       "  </tbody>\n",
       "</table>\n",
       "</div>"
      ],
      "text/plain": [
       "   IMD_Decile_From_LSOA Age_Band  Sex        AE_Arrive_Date  \\\n",
       "0                   7.0    18-24  2.0  2016-02-15T00:00:00Z   \n",
       "1                   7.0     1-17  2.0  2016-03-12T00:00:00Z   \n",
       "2                   2.0    45-64  2.0  2016-06-22T00:00:00Z   \n",
       "3                   1.0      85+  2.0  2015-04-14T00:00:00Z   \n",
       "4                   3.0    18-24  1.0  2014-07-06T00:00:00Z   \n",
       "\n",
       "  AE_Arrive_HourOfDay  AE_Time_Mins AE_HRG  AE_Num_Diagnoses  \\\n",
       "0               01-04           650    Low                 2   \n",
       "1               21-24           200    Low                 1   \n",
       "2               13-16            40    Low                 1   \n",
       "3               17-20           110    Low                 1   \n",
       "4               13-16            60    Low                 1   \n",
       "\n",
       "   AE_Num_Investigations  AE_Num_Treatments  AE_Arrival_Mode  \\\n",
       "0                      2                  1                1   \n",
       "1                      1                  1                2   \n",
       "2                      1                  4                2   \n",
       "3                      1                  2                1   \n",
       "4                      2                  2                2   \n",
       "\n",
       "   Provider_Patient_Distance_Miles  ProvID  Admitted_Flag ICD10_Chapter_Code  \\\n",
       "0                              8.0   15149              0                NaN   \n",
       "1                              1.0   15099              0                NaN   \n",
       "2                              1.0   15194              0                NaN   \n",
       "3                              1.0   15260              1                 IX   \n",
       "4                              2.0   15105              0                NaN   \n",
       "\n",
       "  Treatment_Function_Code  Length_Of_Stay_Days  Record_ID  \n",
       "0                     NaN                  NaN     765388  \n",
       "1                     NaN                  NaN     774977  \n",
       "2                     NaN                  NaN     769250  \n",
       "3                     300                 42.0     795829  \n",
       "4                     NaN                  NaN     732712  "
      ]
     },
     "execution_count": 3,
     "metadata": {},
     "output_type": "execute_result"
    }
   ],
   "source": [
    "ae.head()"
   ]
  },
  {
   "cell_type": "markdown",
   "id": "23d46002",
   "metadata": {
    "papermill": {
     "duration": 0.020205,
     "end_time": "2023-08-20T14:07:24.628213",
     "exception": false,
     "start_time": "2023-08-20T14:07:24.608008",
     "status": "completed"
    },
    "tags": []
   },
   "source": [
    "**Exploratory Data Analysis**\n",
    "\n",
    "Cleaning and Preprocessing"
   ]
  },
  {
   "cell_type": "code",
   "execution_count": 4,
   "id": "aa39de7e",
   "metadata": {
    "execution": {
     "iopub.execute_input": "2023-08-20T14:07:24.672249Z",
     "iopub.status.busy": "2023-08-20T14:07:24.671511Z",
     "iopub.status.idle": "2023-08-20T14:07:24.785914Z",
     "shell.execute_reply": "2023-08-20T14:07:24.784807Z"
    },
    "papermill": {
     "duration": 0.138327,
     "end_time": "2023-08-20T14:07:24.787980",
     "exception": false,
     "start_time": "2023-08-20T14:07:24.649653",
     "status": "completed"
    },
    "tags": []
   },
   "outputs": [
    {
     "name": "stdout",
     "output_type": "stream",
     "text": [
      "<class 'pandas.core.frame.DataFrame'>\n",
      "RangeIndex: 100000 entries, 0 to 99999\n",
      "Data columns (total 18 columns):\n",
      " #   Column                           Non-Null Count   Dtype  \n",
      "---  ------                           --------------   -----  \n",
      " 0   IMD_Decile_From_LSOA             99734 non-null   float64\n",
      " 1   Age_Band                         100000 non-null  object \n",
      " 2   Sex                              99542 non-null   float64\n",
      " 3   AE_Arrive_Date                   100000 non-null  object \n",
      " 4   AE_Arrive_HourOfDay              99542 non-null   object \n",
      " 5   AE_Time_Mins                     100000 non-null  int64  \n",
      " 6   AE_HRG                           98466 non-null   object \n",
      " 7   AE_Num_Diagnoses                 100000 non-null  int64  \n",
      " 8   AE_Num_Investigations            100000 non-null  int64  \n",
      " 9   AE_Num_Treatments                100000 non-null  int64  \n",
      " 10  AE_Arrival_Mode                  100000 non-null  int64  \n",
      " 11  Provider_Patient_Distance_Miles  99734 non-null   float64\n",
      " 12  ProvID                           100000 non-null  int64  \n",
      " 13  Admitted_Flag                    100000 non-null  int64  \n",
      " 14  ICD10_Chapter_Code               48782 non-null   object \n",
      " 15  Treatment_Function_Code          49619 non-null   object \n",
      " 16  Length_Of_Stay_Days              49623 non-null   float64\n",
      " 17  Record_ID                        100000 non-null  int64  \n",
      "dtypes: float64(4), int64(8), object(6)\n",
      "memory usage: 13.7+ MB\n"
     ]
    }
   ],
   "source": [
    "#Looking for variables Data type\n",
    "ae.info()"
   ]
  },
  {
   "cell_type": "code",
   "execution_count": 5,
   "id": "60a925d3",
   "metadata": {
    "execution": {
     "iopub.execute_input": "2023-08-20T14:07:24.833300Z",
     "iopub.status.busy": "2023-08-20T14:07:24.832667Z",
     "iopub.status.idle": "2023-08-20T14:07:24.839530Z",
     "shell.execute_reply": "2023-08-20T14:07:24.838486Z"
    },
    "papermill": {
     "duration": 0.03237,
     "end_time": "2023-08-20T14:07:24.841864",
     "exception": false,
     "start_time": "2023-08-20T14:07:24.809494",
     "status": "completed"
    },
    "tags": []
   },
   "outputs": [
    {
     "data": {
      "text/plain": [
       "(100000, 18)"
      ]
     },
     "execution_count": 5,
     "metadata": {},
     "output_type": "execute_result"
    }
   ],
   "source": [
    "#Getting the shape of data\n",
    "ae.shape\n"
   ]
  },
  {
   "cell_type": "code",
   "execution_count": 6,
   "id": "0488562f",
   "metadata": {
    "execution": {
     "iopub.execute_input": "2023-08-20T14:07:24.886725Z",
     "iopub.status.busy": "2023-08-20T14:07:24.886122Z",
     "iopub.status.idle": "2023-08-20T14:07:25.076612Z",
     "shell.execute_reply": "2023-08-20T14:07:25.075378Z"
    },
    "papermill": {
     "duration": 0.215436,
     "end_time": "2023-08-20T14:07:25.079036",
     "exception": false,
     "start_time": "2023-08-20T14:07:24.863600",
     "status": "completed"
    },
    "tags": []
   },
   "outputs": [
    {
     "data": {
      "text/plain": [
       "IMD_Decile_From_LSOA                 266\n",
       "Age_Band                               0\n",
       "Sex                                  458\n",
       "AE_Arrive_Date                         0\n",
       "AE_Arrive_HourOfDay                  458\n",
       "AE_Time_Mins                           0\n",
       "AE_HRG                              1534\n",
       "AE_Num_Diagnoses                       0\n",
       "AE_Num_Investigations                  0\n",
       "AE_Num_Treatments                      0\n",
       "AE_Arrival_Mode                        0\n",
       "Provider_Patient_Distance_Miles      266\n",
       "ProvID                                 0\n",
       "Admitted_Flag                          0\n",
       "ICD10_Chapter_Code                 51218\n",
       "Treatment_Function_Code            50381\n",
       "Length_Of_Stay_Days                50377\n",
       "Record_ID                              0\n",
       "dtype: int64"
      ]
     },
     "execution_count": 6,
     "metadata": {},
     "output_type": "execute_result"
    }
   ],
   "source": [
    "ae.isnull().values.any()\n",
    "\n",
    "#checking missing values in dataset columnwise\n",
    "ae.isna().sum()"
   ]
  },
  {
   "cell_type": "code",
   "execution_count": 7,
   "id": "64646914",
   "metadata": {
    "execution": {
     "iopub.execute_input": "2023-08-20T14:07:25.124657Z",
     "iopub.status.busy": "2023-08-20T14:07:25.124020Z",
     "iopub.status.idle": "2023-08-20T14:07:25.131783Z",
     "shell.execute_reply": "2023-08-20T14:07:25.130072Z"
    },
    "papermill": {
     "duration": 0.032632,
     "end_time": "2023-08-20T14:07:25.134040",
     "exception": false,
     "start_time": "2023-08-20T14:07:25.101408",
     "status": "completed"
    },
    "tags": []
   },
   "outputs": [
    {
     "name": "stdout",
     "output_type": "stream",
     "text": [
      "Index(['imd_decile_from_lsoa', 'age_band', 'sex', 'ae_arrive_date',\n",
      "       'ae_arrive_hourofday', 'ae_time_mins', 'ae_hrg', 'ae_num_diagnoses',\n",
      "       'ae_num_investigations', 'ae_num_treatments', 'ae_arrival_mode',\n",
      "       'provider_patient_distance_miles', 'provid', 'admitted_flag',\n",
      "       'icd10_chapter_code', 'treatment_function_code', 'length_of_stay_days',\n",
      "       'record_id'],\n",
      "      dtype='object')\n"
     ]
    }
   ],
   "source": [
    "# Convert all column names to lowercase\n",
    "ae.columns = ae.columns.str.lower()\n",
    "print(ae.columns)"
   ]
  },
  {
   "cell_type": "code",
   "execution_count": 8,
   "id": "d9dc14dd",
   "metadata": {
    "execution": {
     "iopub.execute_input": "2023-08-20T14:07:25.178876Z",
     "iopub.status.busy": "2023-08-20T14:07:25.178487Z",
     "iopub.status.idle": "2023-08-20T14:07:25.192822Z",
     "shell.execute_reply": "2023-08-20T14:07:25.191660Z"
    },
    "papermill": {
     "duration": 0.04004,
     "end_time": "2023-08-20T14:07:25.195124",
     "exception": false,
     "start_time": "2023-08-20T14:07:25.155084",
     "status": "completed"
    },
    "tags": []
   },
   "outputs": [
    {
     "name": "stdout",
     "output_type": "stream",
     "text": [
      "0    Low\n",
      "Name: ae_hrg, dtype: object\n"
     ]
    }
   ],
   "source": [
    "# finding the mode for ae_hrg and sex\n",
    "print(ae['ae_hrg'].mode())"
   ]
  },
  {
   "cell_type": "code",
   "execution_count": 9,
   "id": "4ee582c1",
   "metadata": {
    "execution": {
     "iopub.execute_input": "2023-08-20T14:07:25.240879Z",
     "iopub.status.busy": "2023-08-20T14:07:25.240496Z",
     "iopub.status.idle": "2023-08-20T14:07:25.320173Z",
     "shell.execute_reply": "2023-08-20T14:07:25.318986Z"
    },
    "papermill": {
     "duration": 0.10523,
     "end_time": "2023-08-20T14:07:25.322694",
     "exception": false,
     "start_time": "2023-08-20T14:07:25.217464",
     "status": "completed"
    },
    "tags": []
   },
   "outputs": [
    {
     "name": "stdout",
     "output_type": "stream",
     "text": [
      "Shape of cleaned DataFrame: (99542, 18)\n"
     ]
    }
   ],
   "source": [
    "#Dealing with the null values \n",
    "ae.dropna(subset=['imd_decile_from_lsoa', 'provider_patient_distance_miles'], inplace=True)\n",
    "ae['icd10_chapter_code'].fillna('Unknown', inplace=True)\n",
    "ae['sex'].fillna(3.0000, inplace=True) #3.0000 stands for unknown gender\n",
    "ae['length_of_stay_days'].fillna(0, inplace=True)\n",
    "ae['treatment_function_code'].fillna(\"Unknown\", inplace=True)\n",
    "ae['ae_hrg'].fillna(\"Low\", inplace=True)\n",
    "ae.dropna(subset=['ae_arrive_hourofday'], inplace=True)\n",
    "print(\"Shape of cleaned DataFrame:\", ae.shape)"
   ]
  },
  {
   "cell_type": "code",
   "execution_count": 10,
   "id": "a5b7bc22",
   "metadata": {
    "execution": {
     "iopub.execute_input": "2023-08-20T14:07:25.367892Z",
     "iopub.status.busy": "2023-08-20T14:07:25.367479Z",
     "iopub.status.idle": "2023-08-20T14:07:25.464152Z",
     "shell.execute_reply": "2023-08-20T14:07:25.462974Z"
    },
    "papermill": {
     "duration": 0.121745,
     "end_time": "2023-08-20T14:07:25.466567",
     "exception": false,
     "start_time": "2023-08-20T14:07:25.344822",
     "status": "completed"
    },
    "tags": []
   },
   "outputs": [
    {
     "data": {
      "text/plain": [
       "imd_decile_from_lsoa               0\n",
       "age_band                           0\n",
       "sex                                0\n",
       "ae_arrive_date                     0\n",
       "ae_arrive_hourofday                0\n",
       "ae_time_mins                       0\n",
       "ae_hrg                             0\n",
       "ae_num_diagnoses                   0\n",
       "ae_num_investigations              0\n",
       "ae_num_treatments                  0\n",
       "ae_arrival_mode                    0\n",
       "provider_patient_distance_miles    0\n",
       "provid                             0\n",
       "admitted_flag                      0\n",
       "icd10_chapter_code                 0\n",
       "treatment_function_code            0\n",
       "length_of_stay_days                0\n",
       "record_id                          0\n",
       "dtype: int64"
      ]
     },
     "execution_count": 10,
     "metadata": {},
     "output_type": "execute_result"
    }
   ],
   "source": [
    " # calculating the sum of null values across all the columns\n",
    "(ae.isnull().sum())"
   ]
  },
  {
   "cell_type": "code",
   "execution_count": 11,
   "id": "31cc00d4",
   "metadata": {
    "execution": {
     "iopub.execute_input": "2023-08-20T14:07:25.511186Z",
     "iopub.status.busy": "2023-08-20T14:07:25.510784Z",
     "iopub.status.idle": "2023-08-20T14:07:25.521815Z",
     "shell.execute_reply": "2023-08-20T14:07:25.520643Z"
    },
    "papermill": {
     "duration": 0.036418,
     "end_time": "2023-08-20T14:07:25.524392",
     "exception": false,
     "start_time": "2023-08-20T14:07:25.487974",
     "status": "completed"
    },
    "tags": []
   },
   "outputs": [],
   "source": [
    "# Convert 'Sex' column to integers\n",
    "ae['sex'] = ae['sex'].astype(int)\n",
    "\n",
    "# Convert 'Provider_Patient_Distance_Miles', 'length_of_stay_days', 'imd_decile_from_lsoa' columns to integers\n",
    "ae['length_of_stay_days'] = ae['length_of_stay_days'].astype(int)\n",
    "ae['provider_patient_distance_miles'] = ae['provider_patient_distance_miles'].astype(int)\n",
    "ae['imd_decile_from_lsoa'] = ae['imd_decile_from_lsoa'].astype(int)\n",
    "#ae['ae_arrive_hourofday'] = ae['ae_arrive_hourofday'].astype(int)"
   ]
  },
  {
   "cell_type": "code",
   "execution_count": 12,
   "id": "a0e8d2b0",
   "metadata": {
    "execution": {
     "iopub.execute_input": "2023-08-20T14:07:25.568736Z",
     "iopub.status.busy": "2023-08-20T14:07:25.568326Z",
     "iopub.status.idle": "2023-08-20T14:07:25.575158Z",
     "shell.execute_reply": "2023-08-20T14:07:25.573992Z"
    },
    "papermill": {
     "duration": 0.031689,
     "end_time": "2023-08-20T14:07:25.577444",
     "exception": false,
     "start_time": "2023-08-20T14:07:25.545755",
     "status": "completed"
    },
    "tags": []
   },
   "outputs": [
    {
     "data": {
      "text/plain": [
       "(99542, 18)"
      ]
     },
     "execution_count": 12,
     "metadata": {},
     "output_type": "execute_result"
    }
   ],
   "source": [
    "ae.shape"
   ]
  },
  {
   "cell_type": "markdown",
   "id": "ea044e8e",
   "metadata": {
    "papermill": {
     "duration": 0.021533,
     "end_time": "2023-08-20T14:07:25.620704",
     "exception": false,
     "start_time": "2023-08-20T14:07:25.599171",
     "status": "completed"
    },
    "tags": []
   },
   "source": [
    "**DATA VISUALIZATION** - UNIVARIATE ANALYSIS"
   ]
  },
  {
   "cell_type": "code",
   "execution_count": 13,
   "id": "215d3607",
   "metadata": {
    "execution": {
     "iopub.execute_input": "2023-08-20T14:07:25.666668Z",
     "iopub.status.busy": "2023-08-20T14:07:25.665463Z",
     "iopub.status.idle": "2023-08-20T14:07:25.968152Z",
     "shell.execute_reply": "2023-08-20T14:07:25.966949Z"
    },
    "papermill": {
     "duration": 0.328227,
     "end_time": "2023-08-20T14:07:25.971247",
     "exception": false,
     "start_time": "2023-08-20T14:07:25.643020",
     "status": "completed"
    },
    "tags": []
   },
   "outputs": [
    {
     "data": {
      "image/png": "[encoded data removed]",
      "text/plain": [
       "<Figure size 1200x400 with 1 Axes>"
      ]
     },
     "metadata": {},
     "output_type": "display_data"
    }
   ],
   "source": [
    "def visualize_ds(ae: pd.DataFrame, title: str) -> None:\n",
    "\n",
    "    plt.figure(figsize=(12, 4))\n",
    "    ax = sns.countplot(data=ae, x='admitted_flag')\n",
    "    ax.set_title(title)\n",
    "\n",
    "    for i in ax.patches:\n",
    "\n",
    "        ax.text(\n",
    "            x=i.get_x() + i.get_width() / 2,\n",
    "            y=i.get_y() + i.get_height() / 7,\n",
    "            s=f\"{np.round(i.get_height() / len(ae)* 100.)}%\",\n",
    "            ha=\"center\",\n",
    "            size=50,\n",
    "            weight=\"bold\",\n",
    "            color=\"white\"\n",
    "        )\n",
    "\n",
    "visualize_ds(ae, \"Target_Variable\")"
   ]
  },
  {
   "cell_type": "markdown",
   "id": "75ec05c3",
   "metadata": {
    "papermill": {
     "duration": 0.022026,
     "end_time": "2023-08-20T14:07:26.016007",
     "exception": false,
     "start_time": "2023-08-20T14:07:25.993981",
     "status": "completed"
    },
    "tags": []
   },
   "source": [
    "Where\n",
    "\n",
    "0 represents Admitted\n",
    "\n",
    "1 represents Not Admitted\n",
    "\n",
    "\n",
    "\n",
    "We can see that 50% of the total datasets are  admitted while the other 50% are not admmitted. We could also deduce from this chart that our data is balanced."
   ]
  },
  {
   "cell_type": "code",
   "execution_count": 14,
   "id": "d265ee2c",
   "metadata": {
    "execution": {
     "iopub.execute_input": "2023-08-20T14:07:26.063339Z",
     "iopub.status.busy": "2023-08-20T14:07:26.062927Z",
     "iopub.status.idle": "2023-08-20T14:07:26.313048Z",
     "shell.execute_reply": "2023-08-20T14:07:26.311957Z"
    },
    "papermill": {
     "duration": 0.276977,
     "end_time": "2023-08-20T14:07:26.315503",
     "exception": false,
     "start_time": "2023-08-20T14:07:26.038526",
     "status": "completed"
    },
    "tags": []
   },
   "outputs": [
    {
     "data": {
      "image/png": "[encoded data removed]",
      "text/plain": [
       "<Figure size 800x600 with 1 Axes>"
      ]
     },
     "metadata": {},
     "output_type": "display_data"
    }
   ],
   "source": [
    "health_df = pd.DataFrame(ae)\n",
    "\n",
    "# Calculate the count of each age band on-the-fly using value_counts()\n",
    "age_band_counts = health_df['age_band'].value_counts()\n",
    "\n",
    "# Plotting the age band distribution as a bar chart\n",
    "plt.figure(figsize=(8, 6))\n",
    "plt.bar(age_band_counts.index, age_band_counts)\n",
    "plt.xlabel('Age Band (Grouped as Integers)')\n",
    "plt.ylabel('Count')\n",
    "plt.title('Distribution of Age Bands')\n",
    "plt.xticks(rotation=0)  # If age bands are represented by integer labels, no need to rotate x-axis labels\n",
    "\n",
    "plt.show()"
   ]
  },
  {
   "cell_type": "markdown",
   "id": "45ce986b",
   "metadata": {
    "papermill": {
     "duration": 0.022091,
     "end_time": "2023-08-20T14:07:26.360151",
     "exception": false,
     "start_time": "2023-08-20T14:07:26.338060",
     "status": "completed"
    },
    "tags": []
   },
   "source": [
    "We can deduce from this chart that in the overall dataset the age group 25-44 and 65-84 are the most common in accident and emergency cases."
   ]
  },
  {
   "cell_type": "markdown",
   "id": "20eac03b",
   "metadata": {
    "papermill": {
     "duration": 0.022811,
     "end_time": "2023-08-20T14:07:26.405610",
     "exception": false,
     "start_time": "2023-08-20T14:07:26.382799",
     "status": "completed"
    },
    "tags": []
   },
   "source": [
    "**Distribution of Gender**"
   ]
  },
  {
   "cell_type": "code",
   "execution_count": 15,
   "id": "d6ef1b23",
   "metadata": {
    "execution": {
     "iopub.execute_input": "2023-08-20T14:07:26.452650Z",
     "iopub.status.busy": "2023-08-20T14:07:26.452270Z",
     "iopub.status.idle": "2023-08-20T14:07:26.682837Z",
     "shell.execute_reply": "2023-08-20T14:07:26.681616Z"
    },
    "papermill": {
     "duration": 0.258774,
     "end_time": "2023-08-20T14:07:26.686822",
     "exception": false,
     "start_time": "2023-08-20T14:07:26.428048",
     "status": "completed"
    },
    "tags": []
   },
   "outputs": [
    {
     "data": {
      "text/plain": [
       "Text(0.5, 1.0, 'Distribution of Gender')"
      ]
     },
     "execution_count": 15,
     "metadata": {},
     "output_type": "execute_result"
    },
    {
     "data": {
      "image/png": "[encoded data removed]",
      "text/plain": [
       "<Figure size 1800x1200 with 1 Axes>"
      ]
     },
     "metadata": {},
     "output_type": "display_data"
    }
   ],
   "source": [
    "#checking gender distribution\n",
    "#first check the overall distribution of age then gender\n",
    "\n",
    "plt.figure(figsize=(18,12))\n",
    "plt.subplot(221)\n",
    "ae[\"sex\"].value_counts().plot.pie(x=1, autopct = \"%1.0f%%\",colors = sns.color_palette(\"prism\",5),startangle = 60,labels=[\"Male\",\"Female\", \"Unknown\"],\n",
    "wedgeprops={\"linewidth\":2,\"edgecolor\":\"k\"},explode=[.1,.1,.1],shadow =True)\n",
    "\n",
    "plt.title(\"Distribution of Gender\")\n"
   ]
  },
  {
   "cell_type": "markdown",
   "id": "c586f6ca",
   "metadata": {
    "papermill": {
     "duration": 0.026644,
     "end_time": "2023-08-20T14:07:26.752994",
     "exception": false,
     "start_time": "2023-08-20T14:07:26.726350",
     "status": "completed"
    },
    "tags": []
   },
   "source": [
    "The chart above shows 51% of the overall dataset are male and the other 49% are females with an insigificant percentage being unknown"
   ]
  },
  {
   "cell_type": "code",
   "execution_count": 16,
   "id": "666a20d7",
   "metadata": {
    "execution": {
     "iopub.execute_input": "2023-08-20T14:07:26.802028Z",
     "iopub.status.busy": "2023-08-20T14:07:26.800894Z",
     "iopub.status.idle": "2023-08-20T14:07:27.122985Z",
     "shell.execute_reply": "2023-08-20T14:07:27.122105Z"
    },
    "papermill": {
     "duration": 0.348666,
     "end_time": "2023-08-20T14:07:27.125038",
     "exception": false,
     "start_time": "2023-08-20T14:07:26.776372",
     "status": "completed"
    },
    "tags": []
   },
   "outputs": [
    {
     "data": {
      "image/png": "[encoded data removed]",
      "text/plain": [
       "<Figure size 640x480 with 1 Axes>"
      ]
     },
     "metadata": {},
     "output_type": "display_data"
    }
   ],
   "source": [
    "# Visualize the distribution of 'IMD_Decile_From_LSOA'\n",
    "sns.histplot(x='imd_decile_from_lsoa', data=ae, bins=10)\n",
    "plt.title('Distribution of IMD_Decile_From_LSOA')\n",
    "plt.show()"
   ]
  },
  {
   "cell_type": "markdown",
   "id": "be12abd3",
   "metadata": {
    "papermill": {
     "duration": 0.023505,
     "end_time": "2023-08-20T14:07:27.172386",
     "exception": false,
     "start_time": "2023-08-20T14:07:27.148881",
     "status": "completed"
    },
    "tags": []
   },
   "source": [
    "This histogram displays the distribution of IMD deciles across Lower Layer Super Output Areas (LSOAs). Each bar in the histogram represents a range of IMD decile values.\n",
    "From the shape of the histogram, we can observe the general pattern of IMD decile distribution among the areas. \n",
    "This histogram is skewed to the left, it suggests that a larger number of LSOAs have lower levels of deprivation. "
   ]
  },
  {
   "cell_type": "code",
   "execution_count": 17,
   "id": "055a1c28",
   "metadata": {
    "execution": {
     "iopub.execute_input": "2023-08-20T14:07:27.222708Z",
     "iopub.status.busy": "2023-08-20T14:07:27.222052Z",
     "iopub.status.idle": "2023-08-20T14:07:27.549077Z",
     "shell.execute_reply": "2023-08-20T14:07:27.547817Z"
    },
    "papermill": {
     "duration": 0.355007,
     "end_time": "2023-08-20T14:07:27.551561",
     "exception": false,
     "start_time": "2023-08-20T14:07:27.196554",
     "status": "completed"
    },
    "tags": []
   },
   "outputs": [
    {
     "data": {
      "image/png": "[encoded data removed]",
      "text/plain": [
       "<Figure size 640x480 with 1 Axes>"
      ]
     },
     "metadata": {},
     "output_type": "display_data"
    }
   ],
   "source": [
    "# Plot the distribution of 'AE_Num_Diagnoses'\n",
    "sns.histplot(x='ae_num_diagnoses', data=ae, bins=20)\n",
    "plt.title('Distribution of AE_Num_Diagnoses')\n",
    "plt.show()"
   ]
  },
  {
   "cell_type": "markdown",
   "id": "84798a3d",
   "metadata": {
    "papermill": {
     "duration": 0.023994,
     "end_time": "2023-08-20T14:07:27.599929",
     "exception": false,
     "start_time": "2023-08-20T14:07:27.575935",
     "status": "completed"
    },
    "tags": []
   },
   "source": [
    "This histogram displays the distribution of the number of diagnoses among patients in the Accident and Emergency department."
   ]
  },
  {
   "cell_type": "code",
   "execution_count": 18,
   "id": "1bade031",
   "metadata": {
    "execution": {
     "iopub.execute_input": "2023-08-20T14:07:27.650294Z",
     "iopub.status.busy": "2023-08-20T14:07:27.649861Z",
     "iopub.status.idle": "2023-08-20T14:07:27.987670Z",
     "shell.execute_reply": "2023-08-20T14:07:27.986503Z"
    },
    "papermill": {
     "duration": 0.366045,
     "end_time": "2023-08-20T14:07:27.990167",
     "exception": false,
     "start_time": "2023-08-20T14:07:27.624122",
     "status": "completed"
    },
    "tags": []
   },
   "outputs": [
    {
     "data": {
      "image/png": "[encoded data removed]",
      "text/plain": [
       "<Figure size 640x480 with 1 Axes>"
      ]
     },
     "metadata": {},
     "output_type": "display_data"
    }
   ],
   "source": [
    "# Plot the distribution of 'Length_Of_Stay_Days'\n",
    "sns.histplot(x='length_of_stay_days', data=ae, bins=20)\n",
    "plt.title('Distribution of Length_Of_Stay_Days')\n",
    "plt.show()"
   ]
  },
  {
   "cell_type": "markdown",
   "id": "bf18b2c2",
   "metadata": {
    "papermill": {
     "duration": 0.024624,
     "end_time": "2023-08-20T14:07:28.040322",
     "exception": false,
     "start_time": "2023-08-20T14:07:28.015698",
     "status": "completed"
    },
    "tags": []
   },
   "source": [
    "The peak at a certain value of stay length, indicates that this is a common duration for patients admitted."
   ]
  },
  {
   "cell_type": "markdown",
   "id": "22f01c8e",
   "metadata": {
    "papermill": {
     "duration": 0.024623,
     "end_time": "2023-08-20T14:07:28.089638",
     "exception": false,
     "start_time": "2023-08-20T14:07:28.065015",
     "status": "completed"
    },
    "tags": []
   },
   "source": [
    "**Data Visualization**-Bi Variate Analysis"
   ]
  },
  {
   "cell_type": "code",
   "execution_count": 19,
   "id": "be8e21f5",
   "metadata": {
    "execution": {
     "iopub.execute_input": "2023-08-20T14:07:28.143584Z",
     "iopub.status.busy": "2023-08-20T14:07:28.143191Z",
     "iopub.status.idle": "2023-08-20T14:07:28.436973Z",
     "shell.execute_reply": "2023-08-20T14:07:28.435924Z"
    },
    "papermill": {
     "duration": 0.324372,
     "end_time": "2023-08-20T14:07:28.439355",
     "exception": false,
     "start_time": "2023-08-20T14:07:28.114983",
     "status": "completed"
    },
    "tags": []
   },
   "outputs": [
    {
     "data": {
      "image/png": "[encoded data removed]",
      "text/plain": [
       "<Figure size 640x480 with 1 Axes>"
      ]
     },
     "metadata": {},
     "output_type": "display_data"
    }
   ],
   "source": [
    "#Age Band Distribution by Admission Status\n",
    "\n",
    "age_admission_count = ae.groupby(['age_band', 'admitted_flag']).size().unstack()\n",
    "age_admission_count.plot(kind='bar', stacked=True)\n",
    "plt.title('Age Band Distribution by Admission Status')\n",
    "plt.xlabel('Age Band')\n",
    "plt.ylabel('Count')\n",
    "plt.show()\n"
   ]
  },
  {
   "cell_type": "markdown",
   "id": "6921b139",
   "metadata": {
    "papermill": {
     "duration": 0.025405,
     "end_time": "2023-08-20T14:07:28.489856",
     "exception": false,
     "start_time": "2023-08-20T14:07:28.464451",
     "status": "completed"
    },
    "tags": []
   },
   "source": [
    "The stacked bar plot illustrates how the distribution of admission statuses (admitted and not admitted) varies across different age bands. Each bar is a representation of a specific age band, and the segments within the bar show the count of patients in each admission status category. By comparing the heights of the segments, you can observe the relative proportion of patients admitted and not admitted within each age band.\n",
    "\n",
    "Age band 65-84 and 25-44  in the \"admitted\" segment is taller, it suggests that patients in those age bands are more likely to be admitted.\n",
    "\n"
   ]
  },
  {
   "cell_type": "code",
   "execution_count": 20,
   "id": "5f6a7fd4",
   "metadata": {
    "execution": {
     "iopub.execute_input": "2023-08-20T14:07:28.542388Z",
     "iopub.status.busy": "2023-08-20T14:07:28.541953Z",
     "iopub.status.idle": "2023-08-20T14:07:28.815060Z",
     "shell.execute_reply": "2023-08-20T14:07:28.813973Z"
    },
    "papermill": {
     "duration": 0.302218,
     "end_time": "2023-08-20T14:07:28.817622",
     "exception": false,
     "start_time": "2023-08-20T14:07:28.515404",
     "status": "completed"
    },
    "tags": []
   },
   "outputs": [
    {
     "data": {
      "image/png": "[encoded data removed]",
      "text/plain": [
       "<Figure size 640x480 with 1 Axes>"
      ]
     },
     "metadata": {},
     "output_type": "display_data"
    }
   ],
   "source": [
    "# Plot the relationship between 'Sex' and 'Admitted_Flag'\n",
    "sns.countplot(x='sex', hue='admitted_flag', data=ae)\n",
    "plt.title('Sex vs. Admission Status')\n",
    "plt.show()"
   ]
  },
  {
   "cell_type": "markdown",
   "id": "8285a499",
   "metadata": {
    "papermill": {
     "duration": 0.025084,
     "end_time": "2023-08-20T14:07:28.868519",
     "exception": false,
     "start_time": "2023-08-20T14:07:28.843435",
     "status": "completed"
    },
    "tags": []
   },
   "source": [
    "where 1 represents male\n",
    "\n",
    " and 2 represents female \n",
    " \n",
    " and 3 represents unknown\n",
    " \n",
    "The count plot visually displays the distribution of admission statuses (admitted and not admitted) for each gender category. By comparing the heights of the segments within each set of bars, you can observe how the count of patients differs between admission statuses for both males and females. The visuals above deduces from the data that females are more likely to be admitted than males. "
   ]
  },
  {
   "cell_type": "code",
   "execution_count": 21,
   "id": "e9b73d6d",
   "metadata": {
    "execution": {
     "iopub.execute_input": "2023-08-20T14:07:28.920686Z",
     "iopub.status.busy": "2023-08-20T14:07:28.920324Z",
     "iopub.status.idle": "2023-08-20T14:07:29.241166Z",
     "shell.execute_reply": "2023-08-20T14:07:29.239977Z"
    },
    "papermill": {
     "duration": 0.349949,
     "end_time": "2023-08-20T14:07:29.243674",
     "exception": false,
     "start_time": "2023-08-20T14:07:28.893725",
     "status": "completed"
    },
    "tags": []
   },
   "outputs": [
    {
     "data": {
      "image/png": "[encoded data removed]",
      "text/plain": [
       "<Figure size 1000x600 with 1 Axes>"
      ]
     },
     "metadata": {},
     "output_type": "display_data"
    }
   ],
   "source": [
    "# count plot of arrival mode by admission status\n",
    "plt.figure(figsize=(10, 6))\n",
    "sns.countplot(data=ae, x='ae_arrival_mode', hue='admitted_flag')\n",
    "plt.title('Arrival Mode Distribution by Admission Status')\n",
    "plt.xlabel('Arrival Mode')\n",
    "plt.ylabel('Count')\n",
    "plt.legend(title='Admission Status')\n",
    "plt.show()\n"
   ]
  },
  {
   "cell_type": "markdown",
   "id": "c4703542",
   "metadata": {
    "papermill": {
     "duration": 0.026208,
     "end_time": "2023-08-20T14:07:29.295980",
     "exception": false,
     "start_time": "2023-08-20T14:07:29.269772",
     "status": "completed"
    },
    "tags": []
   },
   "source": [
    "Where 0 - unknown \n",
    "\n",
    "1 - represents brought by ambulance \n",
    "\n",
    "2 - represents other means\n",
    "\n",
    "The data shows that a&e patients arriving the hospital by ambulance tend to be admitted compared to patients/persons comming via other means."
   ]
  },
  {
   "cell_type": "code",
   "execution_count": 22,
   "id": "6500ff35",
   "metadata": {
    "execution": {
     "iopub.execute_input": "2023-08-20T14:07:29.352338Z",
     "iopub.status.busy": "2023-08-20T14:07:29.351566Z",
     "iopub.status.idle": "2023-08-20T14:07:29.766403Z",
     "shell.execute_reply": "2023-08-20T14:07:29.765289Z"
    },
    "papermill": {
     "duration": 0.445043,
     "end_time": "2023-08-20T14:07:29.768720",
     "exception": false,
     "start_time": "2023-08-20T14:07:29.323677",
     "status": "completed"
    },
    "tags": []
   },
   "outputs": [
    {
     "data": {
      "image/png": "[encoded data removed]",
      "text/plain": [
       "<Figure size 1500x600 with 1 Axes>"
      ]
     },
     "metadata": {},
     "output_type": "display_data"
    }
   ],
   "source": [
    "#ICD10 Chapter Code Distribution by Admission Status\n",
    "\n",
    "plt.figure(figsize=(15, 6))\n",
    "sns.countplot(data=ae, x='icd10_chapter_code', hue='admitted_flag', order=ae['icd10_chapter_code'].value_counts().index)\n",
    "plt.title('ICD10 Chapter Code Distribution by Admission Status')\n",
    "plt.xlabel('ICD10 Chapter Code')\n",
    "plt.ylabel('Count')\n",
    "plt.legend(title='Admission Status')\n",
    "plt.xticks(rotation=90)\n",
    "plt.show()\n"
   ]
  },
  {
   "cell_type": "markdown",
   "id": "67570571",
   "metadata": {
    "papermill": {
     "duration": 0.026234,
     "end_time": "2023-08-20T14:07:29.821440",
     "exception": false,
     "start_time": "2023-08-20T14:07:29.795206",
     "status": "completed"
    },
    "tags": []
   },
   "source": [
    "This visualization helps in understanding how the distribution of patients based on ICD10 chapter codes differs between admission statuses. It can help in identifying patterns and differences in diagnoses among admitted and not admitted patient"
   ]
  },
  {
   "cell_type": "code",
   "execution_count": 23,
   "id": "7972d297",
   "metadata": {
    "execution": {
     "iopub.execute_input": "2023-08-20T14:07:29.876595Z",
     "iopub.status.busy": "2023-08-20T14:07:29.876197Z",
     "iopub.status.idle": "2023-08-20T14:07:30.456253Z",
     "shell.execute_reply": "2023-08-20T14:07:30.454979Z"
    },
    "papermill": {
     "duration": 0.614394,
     "end_time": "2023-08-20T14:07:30.462632",
     "exception": false,
     "start_time": "2023-08-20T14:07:29.848238",
     "status": "completed"
    },
    "tags": []
   },
   "outputs": [
    {
     "data": {
      "image/png": "[encoded data removed]",
      "text/plain": [
       "<Figure size 1000x600 with 1 Axes>"
      ]
     },
     "metadata": {},
     "output_type": "display_data"
    }
   ],
   "source": [
    "#Arrival Hour Distribution by Admission Status\n",
    "\n",
    "plt.figure(figsize=(10, 6))\n",
    "sns.countplot(data=ae, x='ae_arrive_hourofday', hue='admitted_flag')\n",
    "plt.title('Arrival Hour Distribution by Admission Status')\n",
    "plt.xlabel('Arrival Hour of Day')\n",
    "plt.ylabel('Count')\n",
    "plt.legend(title='Admission Status')\n",
    "plt.show()\n"
   ]
  },
  {
   "cell_type": "markdown",
   "id": "6cfe37cb",
   "metadata": {
    "papermill": {
     "duration": 0.026574,
     "end_time": "2023-08-20T14:07:30.518075",
     "exception": false,
     "start_time": "2023-08-20T14:07:30.491501",
     "status": "completed"
    },
    "tags": []
   },
   "source": [
    "This visualization helps in understanding how patient arrivals vary by hour of the day and how that variation relates to admission decisions. This plot shows that patients arrive more between 09am-12pm and 13pm-16pm\n",
    "It can reveals that patients are more likely to be admitted between 09am-12pm and 13pm-16pm."
   ]
  },
  {
   "cell_type": "markdown",
   "id": "91430cd2",
   "metadata": {
    "papermill": {
     "duration": 0.026622,
     "end_time": "2023-08-20T14:07:30.571390",
     "exception": false,
     "start_time": "2023-08-20T14:07:30.544768",
     "status": "completed"
    },
    "tags": []
   },
   "source": [
    "**MULTI-VARIATE ANALYSIS**"
   ]
  },
  {
   "cell_type": "code",
   "execution_count": 24,
   "id": "85e0428c",
   "metadata": {
    "execution": {
     "iopub.execute_input": "2023-08-20T14:07:30.626391Z",
     "iopub.status.busy": "2023-08-20T14:07:30.626035Z",
     "iopub.status.idle": "2023-08-20T14:07:30.630149Z",
     "shell.execute_reply": "2023-08-20T14:07:30.628984Z"
    },
    "papermill": {
     "duration": 0.034261,
     "end_time": "2023-08-20T14:07:30.632308",
     "exception": false,
     "start_time": "2023-08-20T14:07:30.598047",
     "status": "completed"
    },
    "tags": []
   },
   "outputs": [],
   "source": [
    "#Pair Plot of Features by Admission Status\n",
    "\n",
    "# sns.pairplot(ae, hue='admitted_flag', diag_kind='kde')\n",
    "# plt.suptitle('Pair Plot of Features by Admission Status', y=1.02)\n",
    "# plt.show()"
   ]
  },
  {
   "cell_type": "markdown",
   "id": "3c2fde89",
   "metadata": {
    "papermill": {
     "duration": 0.02663,
     "end_time": "2023-08-20T14:07:30.685850",
     "exception": false,
     "start_time": "2023-08-20T14:07:30.659220",
     "status": "completed"
    },
    "tags": []
   },
   "source": [
    "In the pair plot, each scatterplot shows how two features are related to each other, while considering the differentiation between admitted and not admitted patients through color. The pair plot helps in identifying patterns, trends, and potential relationships between pairs of features. It can provide insights into whether certain feature pairs are related differently depending on the admission status."
   ]
  },
  {
   "cell_type": "code",
   "execution_count": 25,
   "id": "ae4bc245",
   "metadata": {
    "execution": {
     "iopub.execute_input": "2023-08-20T14:07:30.741637Z",
     "iopub.status.busy": "2023-08-20T14:07:30.740840Z",
     "iopub.status.idle": "2023-08-20T14:07:31.122752Z",
     "shell.execute_reply": "2023-08-20T14:07:31.121575Z"
    },
    "papermill": {
     "duration": 0.413216,
     "end_time": "2023-08-20T14:07:31.125820",
     "exception": false,
     "start_time": "2023-08-20T14:07:30.712604",
     "status": "completed"
    },
    "tags": []
   },
   "outputs": [
    {
     "name": "stderr",
     "output_type": "stream",
     "text": [
      "/tmp/ipykernel_20/2365984128.py:4: FutureWarning: \n",
      "\n",
      "The `ci` parameter is deprecated. Use `errorbar=None` for the same effect.\n",
      "\n",
      "  sns.barplot(data=ae, x='age_band', y='length_of_stay_days', hue='admitted_flag', ci=None)\n"
     ]
    },
    {
     "data": {
      "image/png": "[encoded data removed]",
      "text/plain": [
       "<Figure size 1000x600 with 1 Axes>"
      ]
     },
     "metadata": {},
     "output_type": "display_data"
    }
   ],
   "source": [
    "# bar plot of 'age_band' against 'length_of_stay_days'\n",
    "\n",
    "plt.figure(figsize=(10, 6))\n",
    "sns.barplot(data=ae, x='age_band', y='length_of_stay_days', hue='admitted_flag', ci=None)\n",
    "plt.title('Grouped Bar Plot of Length of Stay by Age Band and Admission Status')\n",
    "plt.xlabel('Age Band')\n",
    "plt.ylabel('Length of Stay (Days)')\n",
    "plt.legend(title='Admission Status')\n",
    "plt.show()"
   ]
  },
  {
   "cell_type": "markdown",
   "id": "67e45d7a",
   "metadata": {
    "papermill": {
     "duration": 0.027497,
     "end_time": "2023-08-20T14:07:31.184645",
     "exception": false,
     "start_time": "2023-08-20T14:07:31.157148",
     "status": "completed"
    },
    "tags": []
   },
   "source": [
    "The grouped bar plot visually displays how the average length of stay varies across age bands, with a differentiation between admission statuses. By comparing the heights of the bars within each 'Age Band', you can observe how the average length of stay differs between admission statuses for different age groups.\n",
    "It can reveal in terms of age groups that 85+ and 65-84 tend to have longer stays when admitted while age group 1-17 tend to have to have shorter stays. "
   ]
  },
  {
   "cell_type": "markdown",
   "id": "459fa455",
   "metadata": {
    "papermill": {
     "duration": 0.027223,
     "end_time": "2023-08-20T14:07:31.239603",
     "exception": false,
     "start_time": "2023-08-20T14:07:31.212380",
     "status": "completed"
    },
    "tags": []
   },
   "source": [
    "**Checking The Correlation**\n",
    "\n",
    "Next we check the correlation between each variable "
   ]
  },
  {
   "cell_type": "code",
   "execution_count": 26,
   "id": "7a8c6e82",
   "metadata": {
    "execution": {
     "iopub.execute_input": "2023-08-20T14:07:31.297800Z",
     "iopub.status.busy": "2023-08-20T14:07:31.297371Z",
     "iopub.status.idle": "2023-08-20T14:07:31.378978Z",
     "shell.execute_reply": "2023-08-20T14:07:31.377862Z"
    },
    "papermill": {
     "duration": 0.113368,
     "end_time": "2023-08-20T14:07:31.381333",
     "exception": false,
     "start_time": "2023-08-20T14:07:31.267965",
     "status": "completed"
    },
    "tags": []
   },
   "outputs": [
    {
     "name": "stderr",
     "output_type": "stream",
     "text": [
      "/tmp/ipykernel_20/3055969393.py:2: FutureWarning: The default value of numeric_only in DataFrame.corr is deprecated. In a future version, it will default to False. Select only valid columns or specify the value of numeric_only to silence this warning.\n",
      "  corr_matrix = ae.corr()\n"
     ]
    },
    {
     "data": {
      "text/html": [
       "<div>\n",
       "<style scoped>\n",
       "    .dataframe tbody tr th:only-of-type {\n",
       "        vertical-align: middle;\n",
       "    }\n",
       "\n",
       "    .dataframe tbody tr th {\n",
       "        vertical-align: top;\n",
       "    }\n",
       "\n",
       "    .dataframe thead th {\n",
       "        text-align: right;\n",
       "    }\n",
       "</style>\n",
       "<table border=\"1\" class=\"dataframe\">\n",
       "  <thead>\n",
       "    <tr style=\"text-align: right;\">\n",
       "      <th></th>\n",
       "      <th>imd_decile_from_lsoa</th>\n",
       "      <th>sex</th>\n",
       "      <th>ae_time_mins</th>\n",
       "      <th>ae_num_diagnoses</th>\n",
       "      <th>ae_num_investigations</th>\n",
       "      <th>ae_num_treatments</th>\n",
       "      <th>ae_arrival_mode</th>\n",
       "      <th>provider_patient_distance_miles</th>\n",
       "      <th>provid</th>\n",
       "      <th>admitted_flag</th>\n",
       "      <th>length_of_stay_days</th>\n",
       "      <th>record_id</th>\n",
       "    </tr>\n",
       "  </thead>\n",
       "  <tbody>\n",
       "    <tr>\n",
       "      <th>imd_decile_from_lsoa</th>\n",
       "      <td>1.0000</td>\n",
       "      <td>-0.0010</td>\n",
       "      <td>0.0016</td>\n",
       "      <td>0.0127</td>\n",
       "      <td>0.0009</td>\n",
       "      <td>0.0311</td>\n",
       "      <td>-0.0064</td>\n",
       "      <td>0.0933</td>\n",
       "      <td>-0.0080</td>\n",
       "      <td>0.0128</td>\n",
       "      <td>0.0115</td>\n",
       "      <td>0.0008</td>\n",
       "    </tr>\n",
       "    <tr>\n",
       "      <th>sex</th>\n",
       "      <td>-0.0010</td>\n",
       "      <td>1.0000</td>\n",
       "      <td>0.0232</td>\n",
       "      <td>-0.0010</td>\n",
       "      <td>0.0256</td>\n",
       "      <td>0.0045</td>\n",
       "      <td>-0.0112</td>\n",
       "      <td>-0.0007</td>\n",
       "      <td>-0.0060</td>\n",
       "      <td>0.0226</td>\n",
       "      <td>0.0104</td>\n",
       "      <td>0.0006</td>\n",
       "    </tr>\n",
       "    <tr>\n",
       "      <th>ae_time_mins</th>\n",
       "      <td>0.0016</td>\n",
       "      <td>0.0232</td>\n",
       "      <td>1.0000</td>\n",
       "      <td>0.0106</td>\n",
       "      <td>0.3365</td>\n",
       "      <td>0.1426</td>\n",
       "      <td>-0.3242</td>\n",
       "      <td>-0.0190</td>\n",
       "      <td>-0.1068</td>\n",
       "      <td>0.4147</td>\n",
       "      <td>0.1505</td>\n",
       "      <td>-0.0010</td>\n",
       "    </tr>\n",
       "    <tr>\n",
       "      <th>ae_num_diagnoses</th>\n",
       "      <td>0.0127</td>\n",
       "      <td>-0.0010</td>\n",
       "      <td>0.0106</td>\n",
       "      <td>1.0000</td>\n",
       "      <td>0.1226</td>\n",
       "      <td>0.1462</td>\n",
       "      <td>-0.0543</td>\n",
       "      <td>0.0049</td>\n",
       "      <td>-0.0307</td>\n",
       "      <td>0.0540</td>\n",
       "      <td>0.0220</td>\n",
       "      <td>0.0030</td>\n",
       "    </tr>\n",
       "    <tr>\n",
       "      <th>ae_num_investigations</th>\n",
       "      <td>0.0009</td>\n",
       "      <td>0.0256</td>\n",
       "      <td>0.3365</td>\n",
       "      <td>0.1226</td>\n",
       "      <td>1.0000</td>\n",
       "      <td>0.4631</td>\n",
       "      <td>-0.2642</td>\n",
       "      <td>-0.0197</td>\n",
       "      <td>-0.1217</td>\n",
       "      <td>0.4484</td>\n",
       "      <td>0.1540</td>\n",
       "      <td>-0.0043</td>\n",
       "    </tr>\n",
       "    <tr>\n",
       "      <th>ae_num_treatments</th>\n",
       "      <td>0.0311</td>\n",
       "      <td>0.0045</td>\n",
       "      <td>0.1426</td>\n",
       "      <td>0.1462</td>\n",
       "      <td>0.4631</td>\n",
       "      <td>1.0000</td>\n",
       "      <td>-0.1312</td>\n",
       "      <td>-0.0065</td>\n",
       "      <td>-0.0959</td>\n",
       "      <td>0.2552</td>\n",
       "      <td>0.0878</td>\n",
       "      <td>-0.0015</td>\n",
       "    </tr>\n",
       "    <tr>\n",
       "      <th>ae_arrival_mode</th>\n",
       "      <td>-0.0064</td>\n",
       "      <td>-0.0112</td>\n",
       "      <td>-0.3242</td>\n",
       "      <td>-0.0543</td>\n",
       "      <td>-0.2642</td>\n",
       "      <td>-0.1312</td>\n",
       "      <td>1.0000</td>\n",
       "      <td>0.0100</td>\n",
       "      <td>0.1068</td>\n",
       "      <td>-0.4223</td>\n",
       "      <td>-0.2161</td>\n",
       "      <td>0.0055</td>\n",
       "    </tr>\n",
       "    <tr>\n",
       "      <th>provider_patient_distance_miles</th>\n",
       "      <td>0.0933</td>\n",
       "      <td>-0.0007</td>\n",
       "      <td>-0.0190</td>\n",
       "      <td>0.0049</td>\n",
       "      <td>-0.0197</td>\n",
       "      <td>-0.0065</td>\n",
       "      <td>0.0100</td>\n",
       "      <td>1.0000</td>\n",
       "      <td>0.0262</td>\n",
       "      <td>-0.0236</td>\n",
       "      <td>-0.0035</td>\n",
       "      <td>-0.0011</td>\n",
       "    </tr>\n",
       "    <tr>\n",
       "      <th>provid</th>\n",
       "      <td>-0.0080</td>\n",
       "      <td>-0.0060</td>\n",
       "      <td>-0.1068</td>\n",
       "      <td>-0.0307</td>\n",
       "      <td>-0.1217</td>\n",
       "      <td>-0.0959</td>\n",
       "      <td>0.1068</td>\n",
       "      <td>0.0262</td>\n",
       "      <td>1.0000</td>\n",
       "      <td>-0.1246</td>\n",
       "      <td>-0.0465</td>\n",
       "      <td>0.0026</td>\n",
       "    </tr>\n",
       "    <tr>\n",
       "      <th>admitted_flag</th>\n",
       "      <td>0.0128</td>\n",
       "      <td>0.0226</td>\n",
       "      <td>0.4147</td>\n",
       "      <td>0.0540</td>\n",
       "      <td>0.4484</td>\n",
       "      <td>0.2552</td>\n",
       "      <td>-0.4223</td>\n",
       "      <td>-0.0236</td>\n",
       "      <td>-0.1246</td>\n",
       "      <td>1.0000</td>\n",
       "      <td>0.3386</td>\n",
       "      <td>-0.0038</td>\n",
       "    </tr>\n",
       "    <tr>\n",
       "      <th>length_of_stay_days</th>\n",
       "      <td>0.0115</td>\n",
       "      <td>0.0104</td>\n",
       "      <td>0.1505</td>\n",
       "      <td>0.0220</td>\n",
       "      <td>0.1540</td>\n",
       "      <td>0.0878</td>\n",
       "      <td>-0.2161</td>\n",
       "      <td>-0.0035</td>\n",
       "      <td>-0.0465</td>\n",
       "      <td>0.3386</td>\n",
       "      <td>1.0000</td>\n",
       "      <td>-0.0058</td>\n",
       "    </tr>\n",
       "    <tr>\n",
       "      <th>record_id</th>\n",
       "      <td>0.0008</td>\n",
       "      <td>0.0006</td>\n",
       "      <td>-0.0010</td>\n",
       "      <td>0.0030</td>\n",
       "      <td>-0.0043</td>\n",
       "      <td>-0.0015</td>\n",
       "      <td>0.0055</td>\n",
       "      <td>-0.0011</td>\n",
       "      <td>0.0026</td>\n",
       "      <td>-0.0038</td>\n",
       "      <td>-0.0058</td>\n",
       "      <td>1.0000</td>\n",
       "    </tr>\n",
       "  </tbody>\n",
       "</table>\n",
       "</div>"
      ],
      "text/plain": [
       "                                 imd_decile_from_lsoa     sex  ae_time_mins  \\\n",
       "imd_decile_from_lsoa                           1.0000 -0.0010        0.0016   \n",
       "sex                                           -0.0010  1.0000        0.0232   \n",
       "ae_time_mins                                   0.0016  0.0232        1.0000   \n",
       "ae_num_diagnoses                               0.0127 -0.0010        0.0106   \n",
       "ae_num_investigations                          0.0009  0.0256        0.3365   \n",
       "ae_num_treatments                              0.0311  0.0045        0.1426   \n",
       "ae_arrival_mode                               -0.0064 -0.0112       -0.3242   \n",
       "provider_patient_distance_miles                0.0933 -0.0007       -0.0190   \n",
       "provid                                        -0.0080 -0.0060       -0.1068   \n",
       "admitted_flag                                  0.0128  0.0226        0.4147   \n",
       "length_of_stay_days                            0.0115  0.0104        0.1505   \n",
       "record_id                                      0.0008  0.0006       -0.0010   \n",
       "\n",
       "                                 ae_num_diagnoses  ae_num_investigations  \\\n",
       "imd_decile_from_lsoa                       0.0127                 0.0009   \n",
       "sex                                       -0.0010                 0.0256   \n",
       "ae_time_mins                               0.0106                 0.3365   \n",
       "ae_num_diagnoses                           1.0000                 0.1226   \n",
       "ae_num_investigations                      0.1226                 1.0000   \n",
       "ae_num_treatments                          0.1462                 0.4631   \n",
       "ae_arrival_mode                           -0.0543                -0.2642   \n",
       "provider_patient_distance_miles            0.0049                -0.0197   \n",
       "provid                                    -0.0307                -0.1217   \n",
       "admitted_flag                              0.0540                 0.4484   \n",
       "length_of_stay_days                        0.0220                 0.1540   \n",
       "record_id                                  0.0030                -0.0043   \n",
       "\n",
       "                                 ae_num_treatments  ae_arrival_mode  \\\n",
       "imd_decile_from_lsoa                        0.0311          -0.0064   \n",
       "sex                                         0.0045          -0.0112   \n",
       "ae_time_mins                                0.1426          -0.3242   \n",
       "ae_num_diagnoses                            0.1462          -0.0543   \n",
       "ae_num_investigations                       0.4631          -0.2642   \n",
       "ae_num_treatments                           1.0000          -0.1312   \n",
       "ae_arrival_mode                            -0.1312           1.0000   \n",
       "provider_patient_distance_miles            -0.0065           0.0100   \n",
       "provid                                     -0.0959           0.1068   \n",
       "admitted_flag                               0.2552          -0.4223   \n",
       "length_of_stay_days                         0.0878          -0.2161   \n",
       "record_id                                  -0.0015           0.0055   \n",
       "\n",
       "                                 provider_patient_distance_miles  provid  \\\n",
       "imd_decile_from_lsoa                                      0.0933 -0.0080   \n",
       "sex                                                      -0.0007 -0.0060   \n",
       "ae_time_mins                                             -0.0190 -0.1068   \n",
       "ae_num_diagnoses                                          0.0049 -0.0307   \n",
       "ae_num_investigations                                    -0.0197 -0.1217   \n",
       "ae_num_treatments                                        -0.0065 -0.0959   \n",
       "ae_arrival_mode                                           0.0100  0.1068   \n",
       "provider_patient_distance_miles                           1.0000  0.0262   \n",
       "provid                                                    0.0262  1.0000   \n",
       "admitted_flag                                            -0.0236 -0.1246   \n",
       "length_of_stay_days                                      -0.0035 -0.0465   \n",
       "record_id                                                -0.0011  0.0026   \n",
       "\n",
       "                                 admitted_flag  length_of_stay_days  record_id  \n",
       "imd_decile_from_lsoa                    0.0128               0.0115     0.0008  \n",
       "sex                                     0.0226               0.0104     0.0006  \n",
       "ae_time_mins                            0.4147               0.1505    -0.0010  \n",
       "ae_num_diagnoses                        0.0540               0.0220     0.0030  \n",
       "ae_num_investigations                   0.4484               0.1540    -0.0043  \n",
       "ae_num_treatments                       0.2552               0.0878    -0.0015  \n",
       "ae_arrival_mode                        -0.4223              -0.2161     0.0055  \n",
       "provider_patient_distance_miles        -0.0236              -0.0035    -0.0011  \n",
       "provid                                 -0.1246              -0.0465     0.0026  \n",
       "admitted_flag                           1.0000               0.3386    -0.0038  \n",
       "length_of_stay_days                     0.3386               1.0000    -0.0058  \n",
       "record_id                              -0.0038              -0.0058     1.0000  "
      ]
     },
     "execution_count": 26,
     "metadata": {},
     "output_type": "execute_result"
    }
   ],
   "source": [
    "pd.options.display.float_format ='{:,.4f}'.format\n",
    "corr_matrix = ae.corr()\n",
    "corr_matrix"
   ]
  },
  {
   "cell_type": "code",
   "execution_count": 27,
   "id": "e045c4d7",
   "metadata": {
    "execution": {
     "iopub.execute_input": "2023-08-20T14:07:31.439699Z",
     "iopub.status.busy": "2023-08-20T14:07:31.439096Z",
     "iopub.status.idle": "2023-08-20T14:07:31.446936Z",
     "shell.execute_reply": "2023-08-20T14:07:31.445986Z"
    },
    "papermill": {
     "duration": 0.039657,
     "end_time": "2023-08-20T14:07:31.448886",
     "exception": false,
     "start_time": "2023-08-20T14:07:31.409229",
     "status": "completed"
    },
    "tags": []
   },
   "outputs": [
    {
     "data": {
      "text/plain": [
       "admitted_flag                      1.0000\n",
       "ae_num_investigations              0.4484\n",
       "ae_time_mins                       0.4147\n",
       "length_of_stay_days                0.3386\n",
       "ae_num_treatments                  0.2552\n",
       "ae_num_diagnoses                   0.0540\n",
       "sex                                0.0226\n",
       "imd_decile_from_lsoa               0.0128\n",
       "record_id                         -0.0038\n",
       "provider_patient_distance_miles   -0.0236\n",
       "provid                            -0.1246\n",
       "ae_arrival_mode                   -0.4223\n",
       "Name: admitted_flag, dtype: float64"
      ]
     },
     "execution_count": 27,
     "metadata": {},
     "output_type": "execute_result"
    }
   ],
   "source": [
    "corr_matrix['admitted_flag'].sort_values(ascending=False)"
   ]
  },
  {
   "cell_type": "markdown",
   "id": "6eeb424d",
   "metadata": {
    "papermill": {
     "duration": 0.027916,
     "end_time": "2023-08-20T14:07:31.505126",
     "exception": false,
     "start_time": "2023-08-20T14:07:31.477210",
     "status": "completed"
    },
    "tags": []
   },
   "source": [
    "The correlation ranges from -1 to +1 when it is close to +1 this signifies that there is a string positive correlation, so we can see there is a stong positive correlation between admitted_flag"
   ]
  },
  {
   "cell_type": "code",
   "execution_count": 28,
   "id": "bd85aad1",
   "metadata": {
    "execution": {
     "iopub.execute_input": "2023-08-20T14:07:31.563049Z",
     "iopub.status.busy": "2023-08-20T14:07:31.562417Z",
     "iopub.status.idle": "2023-08-20T14:07:32.552218Z",
     "shell.execute_reply": "2023-08-20T14:07:32.551315Z"
    },
    "papermill": {
     "duration": 1.022396,
     "end_time": "2023-08-20T14:07:32.555445",
     "exception": false,
     "start_time": "2023-08-20T14:07:31.533049",
     "status": "completed"
    },
    "tags": []
   },
   "outputs": [
    {
     "name": "stderr",
     "output_type": "stream",
     "text": [
      "/tmp/ipykernel_20/2314937749.py:3: FutureWarning: The default value of numeric_only in DataFrame.corr is deprecated. In a future version, it will default to False. Select only valid columns or specify the value of numeric_only to silence this warning.\n",
      "  corr = ae.corr()\n"
     ]
    },
    {
     "data": {
      "text/plain": [
       "Text(0.5, 1.0, 'Correlation Heatmap')"
      ]
     },
     "execution_count": 28,
     "metadata": {},
     "output_type": "execute_result"
    },
    {
     "data": {
      "image/png": "[encoded data removed]",
      "text/plain": [
       "<Figure size 1000x500 with 2 Axes>"
      ]
     },
     "metadata": {},
     "output_type": "display_data"
    }
   ],
   "source": [
    "#Check correlation heatmap for all values\n",
    "plt.figure(figsize = (10,5))\n",
    "corr = ae.corr()\n",
    "sns.heatmap(corr,  vmin = -1, vmax = 1, annot = True, cmap = \"crest\").set_title(\"Correlation Heatmap\", fontdict = {\"fontsize\":20}, pad = 12)"
   ]
  },
  {
   "cell_type": "markdown",
   "id": "cbefec39",
   "metadata": {
    "papermill": {
     "duration": 0.034951,
     "end_time": "2023-08-20T14:07:32.624194",
     "exception": false,
     "start_time": "2023-08-20T14:07:32.589243",
     "status": "completed"
    },
    "tags": []
   },
   "source": [
    "**DATA PREPOCESSING**"
   ]
  },
  {
   "cell_type": "markdown",
   "id": "53b75d09",
   "metadata": {
    "papermill": {
     "duration": 0.030819,
     "end_time": "2023-08-20T14:07:32.686494",
     "exception": false,
     "start_time": "2023-08-20T14:07:32.655675",
     "status": "completed"
    },
    "tags": []
   },
   "source": [
    "Encoding Categorical Variables"
   ]
  },
  {
   "cell_type": "code",
   "execution_count": 29,
   "id": "2018e805",
   "metadata": {
    "execution": {
     "iopub.execute_input": "2023-08-20T14:07:32.751652Z",
     "iopub.status.busy": "2023-08-20T14:07:32.750520Z",
     "iopub.status.idle": "2023-08-20T14:07:33.109173Z",
     "shell.execute_reply": "2023-08-20T14:07:33.107991Z"
    },
    "papermill": {
     "duration": 0.393977,
     "end_time": "2023-08-20T14:07:33.111620",
     "exception": false,
     "start_time": "2023-08-20T14:07:32.717643",
     "status": "completed"
    },
    "tags": []
   },
   "outputs": [
    {
     "data": {
      "text/html": [
       "<div>\n",
       "<style scoped>\n",
       "    .dataframe tbody tr th:only-of-type {\n",
       "        vertical-align: middle;\n",
       "    }\n",
       "\n",
       "    .dataframe tbody tr th {\n",
       "        vertical-align: top;\n",
       "    }\n",
       "\n",
       "    .dataframe thead th {\n",
       "        text-align: right;\n",
       "    }\n",
       "</style>\n",
       "<table border=\"1\" class=\"dataframe\">\n",
       "  <thead>\n",
       "    <tr style=\"text-align: right;\">\n",
       "      <th></th>\n",
       "      <th>ae_num_diagnoses</th>\n",
       "      <th>ae_num_investigations</th>\n",
       "      <th>ae_num_treatments</th>\n",
       "      <th>provider_patient_distance_miles</th>\n",
       "      <th>admitted_flag</th>\n",
       "      <th>length_of_stay_days</th>\n",
       "      <th>age_band_1-17</th>\n",
       "      <th>age_band_18-24</th>\n",
       "      <th>age_band_25-44</th>\n",
       "      <th>age_band_45-64</th>\n",
       "      <th>...</th>\n",
       "      <th>icd10_chapter_code_XI</th>\n",
       "      <th>icd10_chapter_code_XIV</th>\n",
       "      <th>icd10_chapter_code_XIX</th>\n",
       "      <th>icd10_chapter_code_XVIII</th>\n",
       "      <th>ae_arrive_hourofday_01-04</th>\n",
       "      <th>ae_arrive_hourofday_05-08</th>\n",
       "      <th>ae_arrive_hourofday_09-12</th>\n",
       "      <th>ae_arrive_hourofday_13-16</th>\n",
       "      <th>ae_arrive_hourofday_17-20</th>\n",
       "      <th>ae_arrive_hourofday_21-24</th>\n",
       "    </tr>\n",
       "  </thead>\n",
       "  <tbody>\n",
       "    <tr>\n",
       "      <th>0</th>\n",
       "      <td>2</td>\n",
       "      <td>2</td>\n",
       "      <td>1</td>\n",
       "      <td>8</td>\n",
       "      <td>0</td>\n",
       "      <td>0</td>\n",
       "      <td>0</td>\n",
       "      <td>1</td>\n",
       "      <td>0</td>\n",
       "      <td>0</td>\n",
       "      <td>...</td>\n",
       "      <td>0</td>\n",
       "      <td>0</td>\n",
       "      <td>0</td>\n",
       "      <td>0</td>\n",
       "      <td>1</td>\n",
       "      <td>0</td>\n",
       "      <td>0</td>\n",
       "      <td>0</td>\n",
       "      <td>0</td>\n",
       "      <td>0</td>\n",
       "    </tr>\n",
       "    <tr>\n",
       "      <th>1</th>\n",
       "      <td>1</td>\n",
       "      <td>1</td>\n",
       "      <td>1</td>\n",
       "      <td>1</td>\n",
       "      <td>0</td>\n",
       "      <td>0</td>\n",
       "      <td>1</td>\n",
       "      <td>0</td>\n",
       "      <td>0</td>\n",
       "      <td>0</td>\n",
       "      <td>...</td>\n",
       "      <td>0</td>\n",
       "      <td>0</td>\n",
       "      <td>0</td>\n",
       "      <td>0</td>\n",
       "      <td>0</td>\n",
       "      <td>0</td>\n",
       "      <td>0</td>\n",
       "      <td>0</td>\n",
       "      <td>0</td>\n",
       "      <td>1</td>\n",
       "    </tr>\n",
       "    <tr>\n",
       "      <th>2</th>\n",
       "      <td>1</td>\n",
       "      <td>1</td>\n",
       "      <td>4</td>\n",
       "      <td>1</td>\n",
       "      <td>0</td>\n",
       "      <td>0</td>\n",
       "      <td>0</td>\n",
       "      <td>0</td>\n",
       "      <td>0</td>\n",
       "      <td>1</td>\n",
       "      <td>...</td>\n",
       "      <td>0</td>\n",
       "      <td>0</td>\n",
       "      <td>0</td>\n",
       "      <td>0</td>\n",
       "      <td>0</td>\n",
       "      <td>0</td>\n",
       "      <td>0</td>\n",
       "      <td>1</td>\n",
       "      <td>0</td>\n",
       "      <td>0</td>\n",
       "    </tr>\n",
       "    <tr>\n",
       "      <th>3</th>\n",
       "      <td>1</td>\n",
       "      <td>1</td>\n",
       "      <td>2</td>\n",
       "      <td>1</td>\n",
       "      <td>1</td>\n",
       "      <td>42</td>\n",
       "      <td>0</td>\n",
       "      <td>0</td>\n",
       "      <td>0</td>\n",
       "      <td>0</td>\n",
       "      <td>...</td>\n",
       "      <td>0</td>\n",
       "      <td>0</td>\n",
       "      <td>0</td>\n",
       "      <td>0</td>\n",
       "      <td>0</td>\n",
       "      <td>0</td>\n",
       "      <td>0</td>\n",
       "      <td>0</td>\n",
       "      <td>1</td>\n",
       "      <td>0</td>\n",
       "    </tr>\n",
       "    <tr>\n",
       "      <th>4</th>\n",
       "      <td>1</td>\n",
       "      <td>2</td>\n",
       "      <td>2</td>\n",
       "      <td>2</td>\n",
       "      <td>0</td>\n",
       "      <td>0</td>\n",
       "      <td>0</td>\n",
       "      <td>1</td>\n",
       "      <td>0</td>\n",
       "      <td>0</td>\n",
       "      <td>...</td>\n",
       "      <td>0</td>\n",
       "      <td>0</td>\n",
       "      <td>0</td>\n",
       "      <td>0</td>\n",
       "      <td>0</td>\n",
       "      <td>0</td>\n",
       "      <td>0</td>\n",
       "      <td>1</td>\n",
       "      <td>0</td>\n",
       "      <td>0</td>\n",
       "    </tr>\n",
       "    <tr>\n",
       "      <th>5</th>\n",
       "      <td>1</td>\n",
       "      <td>7</td>\n",
       "      <td>2</td>\n",
       "      <td>8</td>\n",
       "      <td>1</td>\n",
       "      <td>3</td>\n",
       "      <td>0</td>\n",
       "      <td>0</td>\n",
       "      <td>0</td>\n",
       "      <td>0</td>\n",
       "      <td>...</td>\n",
       "      <td>0</td>\n",
       "      <td>0</td>\n",
       "      <td>0</td>\n",
       "      <td>0</td>\n",
       "      <td>0</td>\n",
       "      <td>0</td>\n",
       "      <td>0</td>\n",
       "      <td>1</td>\n",
       "      <td>0</td>\n",
       "      <td>0</td>\n",
       "    </tr>\n",
       "    <tr>\n",
       "      <th>6</th>\n",
       "      <td>1</td>\n",
       "      <td>10</td>\n",
       "      <td>10</td>\n",
       "      <td>16</td>\n",
       "      <td>1</td>\n",
       "      <td>23</td>\n",
       "      <td>0</td>\n",
       "      <td>0</td>\n",
       "      <td>0</td>\n",
       "      <td>0</td>\n",
       "      <td>...</td>\n",
       "      <td>0</td>\n",
       "      <td>0</td>\n",
       "      <td>1</td>\n",
       "      <td>0</td>\n",
       "      <td>0</td>\n",
       "      <td>0</td>\n",
       "      <td>0</td>\n",
       "      <td>0</td>\n",
       "      <td>1</td>\n",
       "      <td>0</td>\n",
       "    </tr>\n",
       "    <tr>\n",
       "      <th>7</th>\n",
       "      <td>1</td>\n",
       "      <td>1</td>\n",
       "      <td>2</td>\n",
       "      <td>24</td>\n",
       "      <td>1</td>\n",
       "      <td>7</td>\n",
       "      <td>0</td>\n",
       "      <td>0</td>\n",
       "      <td>0</td>\n",
       "      <td>1</td>\n",
       "      <td>...</td>\n",
       "      <td>0</td>\n",
       "      <td>0</td>\n",
       "      <td>0</td>\n",
       "      <td>0</td>\n",
       "      <td>0</td>\n",
       "      <td>0</td>\n",
       "      <td>0</td>\n",
       "      <td>0</td>\n",
       "      <td>1</td>\n",
       "      <td>0</td>\n",
       "    </tr>\n",
       "    <tr>\n",
       "      <th>8</th>\n",
       "      <td>1</td>\n",
       "      <td>8</td>\n",
       "      <td>3</td>\n",
       "      <td>0</td>\n",
       "      <td>1</td>\n",
       "      <td>3</td>\n",
       "      <td>0</td>\n",
       "      <td>0</td>\n",
       "      <td>0</td>\n",
       "      <td>1</td>\n",
       "      <td>...</td>\n",
       "      <td>1</td>\n",
       "      <td>0</td>\n",
       "      <td>0</td>\n",
       "      <td>0</td>\n",
       "      <td>1</td>\n",
       "      <td>0</td>\n",
       "      <td>0</td>\n",
       "      <td>0</td>\n",
       "      <td>0</td>\n",
       "      <td>0</td>\n",
       "    </tr>\n",
       "    <tr>\n",
       "      <th>9</th>\n",
       "      <td>2</td>\n",
       "      <td>2</td>\n",
       "      <td>3</td>\n",
       "      <td>6</td>\n",
       "      <td>0</td>\n",
       "      <td>0</td>\n",
       "      <td>1</td>\n",
       "      <td>0</td>\n",
       "      <td>0</td>\n",
       "      <td>0</td>\n",
       "      <td>...</td>\n",
       "      <td>0</td>\n",
       "      <td>0</td>\n",
       "      <td>0</td>\n",
       "      <td>0</td>\n",
       "      <td>0</td>\n",
       "      <td>0</td>\n",
       "      <td>1</td>\n",
       "      <td>0</td>\n",
       "      <td>0</td>\n",
       "      <td>0</td>\n",
       "    </tr>\n",
       "  </tbody>\n",
       "</table>\n",
       "<p>10 rows × 46 columns</p>\n",
       "</div>"
      ],
      "text/plain": [
       "   ae_num_diagnoses  ae_num_investigations  ae_num_treatments  \\\n",
       "0                 2                      2                  1   \n",
       "1                 1                      1                  1   \n",
       "2                 1                      1                  4   \n",
       "3                 1                      1                  2   \n",
       "4                 1                      2                  2   \n",
       "5                 1                      7                  2   \n",
       "6                 1                     10                 10   \n",
       "7                 1                      1                  2   \n",
       "8                 1                      8                  3   \n",
       "9                 2                      2                  3   \n",
       "\n",
       "   provider_patient_distance_miles  admitted_flag  length_of_stay_days  \\\n",
       "0                                8              0                    0   \n",
       "1                                1              0                    0   \n",
       "2                                1              0                    0   \n",
       "3                                1              1                   42   \n",
       "4                                2              0                    0   \n",
       "5                                8              1                    3   \n",
       "6                               16              1                   23   \n",
       "7                               24              1                    7   \n",
       "8                                0              1                    3   \n",
       "9                                6              0                    0   \n",
       "\n",
       "   age_band_1-17  age_band_18-24  age_band_25-44  age_band_45-64  ...  \\\n",
       "0              0               1               0               0  ...   \n",
       "1              1               0               0               0  ...   \n",
       "2              0               0               0               1  ...   \n",
       "3              0               0               0               0  ...   \n",
       "4              0               1               0               0  ...   \n",
       "5              0               0               0               0  ...   \n",
       "6              0               0               0               0  ...   \n",
       "7              0               0               0               1  ...   \n",
       "8              0               0               0               1  ...   \n",
       "9              1               0               0               0  ...   \n",
       "\n",
       "   icd10_chapter_code_XI  icd10_chapter_code_XIV  icd10_chapter_code_XIX  \\\n",
       "0                      0                       0                       0   \n",
       "1                      0                       0                       0   \n",
       "2                      0                       0                       0   \n",
       "3                      0                       0                       0   \n",
       "4                      0                       0                       0   \n",
       "5                      0                       0                       0   \n",
       "6                      0                       0                       1   \n",
       "7                      0                       0                       0   \n",
       "8                      1                       0                       0   \n",
       "9                      0                       0                       0   \n",
       "\n",
       "   icd10_chapter_code_XVIII  ae_arrive_hourofday_01-04  \\\n",
       "0                         0                          1   \n",
       "1                         0                          0   \n",
       "2                         0                          0   \n",
       "3                         0                          0   \n",
       "4                         0                          0   \n",
       "5                         0                          0   \n",
       "6                         0                          0   \n",
       "7                         0                          0   \n",
       "8                         0                          1   \n",
       "9                         0                          0   \n",
       "\n",
       "   ae_arrive_hourofday_05-08  ae_arrive_hourofday_09-12  \\\n",
       "0                          0                          0   \n",
       "1                          0                          0   \n",
       "2                          0                          0   \n",
       "3                          0                          0   \n",
       "4                          0                          0   \n",
       "5                          0                          0   \n",
       "6                          0                          0   \n",
       "7                          0                          0   \n",
       "8                          0                          0   \n",
       "9                          0                          1   \n",
       "\n",
       "   ae_arrive_hourofday_13-16  ae_arrive_hourofday_17-20  \\\n",
       "0                          0                          0   \n",
       "1                          0                          0   \n",
       "2                          1                          0   \n",
       "3                          0                          1   \n",
       "4                          1                          0   \n",
       "5                          1                          0   \n",
       "6                          0                          1   \n",
       "7                          0                          1   \n",
       "8                          0                          0   \n",
       "9                          0                          0   \n",
       "\n",
       "   ae_arrive_hourofday_21-24  \n",
       "0                          0  \n",
       "1                          1  \n",
       "2                          0  \n",
       "3                          0  \n",
       "4                          0  \n",
       "5                          0  \n",
       "6                          0  \n",
       "7                          0  \n",
       "8                          0  \n",
       "9                          0  \n",
       "\n",
       "[10 rows x 46 columns]"
      ]
     },
     "execution_count": 29,
     "metadata": {},
     "output_type": "execute_result"
    }
   ],
   "source": [
    "\n",
    "# convert numerical categorical columns by one-hot encoding\n",
    "\n",
    "# Create a new DataFrame to store one-hot encoded columns\n",
    "columns_to_exclude = [\"ae_arrive_date\", \"ae_time_mins\", \"provid\", \"record_id\", \"treatment_function_code\"]\n",
    "ae2 = ae.drop(columns=columns_to_exclude)\n",
    "\n",
    "# Select the columns for one-hot encoding\n",
    "columns_to_encode = [\"age_band\",\"imd_decile_from_lsoa\", \"sex\", \"ae_arrival_mode\", 'ae_hrg', 'icd10_chapter_code', \"ae_arrive_hourofday\"]\n",
    "\n",
    "# Convert numerical categorical columns to strings\n",
    "for col in columns_to_encode:\n",
    "    ae2[col] = ae2[col].astype(str)\n",
    "\n",
    "# Perform one-hot encoding using pandas get_dummies\n",
    "one_hot_encoded = pd.get_dummies(ae2[columns_to_encode], prefix=columns_to_encode)\n",
    "\n",
    "# Concatenate the one-hot encoded columns with the new DataFrame\n",
    "ae2 = pd.concat([ae2, one_hot_encoded], axis=1)\n",
    "\n",
    "# Drop the original encoded columns\n",
    "ae2.drop(columns=[\"age_band\",\"imd_decile_from_lsoa\", \"sex\", \"ae_arrival_mode\", 'ae_hrg', 'icd10_chapter_code', \"ae_arrive_hourofday\"], inplace=True)\n",
    "\n",
    "# Print the transformed DataFrame\n",
    "(ae2.head(10))"
   ]
  },
  {
   "cell_type": "code",
   "execution_count": 30,
   "id": "bc39445a",
   "metadata": {
    "execution": {
     "iopub.execute_input": "2023-08-20T14:07:33.179612Z",
     "iopub.status.busy": "2023-08-20T14:07:33.179250Z",
     "iopub.status.idle": "2023-08-20T14:07:33.365766Z",
     "shell.execute_reply": "2023-08-20T14:07:33.364883Z"
    },
    "papermill": {
     "duration": 0.223315,
     "end_time": "2023-08-20T14:07:33.367997",
     "exception": false,
     "start_time": "2023-08-20T14:07:33.144682",
     "status": "completed"
    },
    "tags": []
   },
   "outputs": [
    {
     "name": "stdout",
     "output_type": "stream",
     "text": [
      "   ae_num_diagnoses  ae_num_investigations  ae_num_treatments  \\\n",
      "0            1.6247                -0.5039            -0.8073   \n",
      "1            0.1941                -0.8296            -0.8073   \n",
      "2            0.1941                -0.8296             0.5611   \n",
      "3            0.1941                -0.8296            -0.3512   \n",
      "4            0.1941                -0.5039            -0.3512   \n",
      "\n",
      "   provider_patient_distance_miles  admitted_flag  length_of_stay_days  \\\n",
      "0                           0.0552              0              -0.3377   \n",
      "1                          -0.3632              0              -0.3377   \n",
      "2                          -0.3632              0              -0.3377   \n",
      "3                          -0.3632              1               4.7539   \n",
      "4                          -0.3034              0              -0.3377   \n",
      "\n",
      "   age_band_1-17  age_band_18-24  age_band_25-44  age_band_45-64  ...  \\\n",
      "0              0               1               0               0  ...   \n",
      "1              1               0               0               0  ...   \n",
      "2              0               0               0               1  ...   \n",
      "3              0               0               0               0  ...   \n",
      "4              0               1               0               0  ...   \n",
      "\n",
      "   icd10_chapter_code_XI  icd10_chapter_code_XIV  icd10_chapter_code_XIX  \\\n",
      "0                      0                       0                       0   \n",
      "1                      0                       0                       0   \n",
      "2                      0                       0                       0   \n",
      "3                      0                       0                       0   \n",
      "4                      0                       0                       0   \n",
      "\n",
      "   icd10_chapter_code_XVIII  ae_arrive_hourofday_01-04  \\\n",
      "0                         0                          1   \n",
      "1                         0                          0   \n",
      "2                         0                          0   \n",
      "3                         0                          0   \n",
      "4                         0                          0   \n",
      "\n",
      "   ae_arrive_hourofday_05-08  ae_arrive_hourofday_09-12  \\\n",
      "0                          0                          0   \n",
      "1                          0                          0   \n",
      "2                          0                          0   \n",
      "3                          0                          0   \n",
      "4                          0                          0   \n",
      "\n",
      "   ae_arrive_hourofday_13-16  ae_arrive_hourofday_17-20  \\\n",
      "0                          0                          0   \n",
      "1                          0                          0   \n",
      "2                          1                          0   \n",
      "3                          0                          1   \n",
      "4                          1                          0   \n",
      "\n",
      "   ae_arrive_hourofday_21-24  \n",
      "0                          0  \n",
      "1                          1  \n",
      "2                          0  \n",
      "3                          0  \n",
      "4                          0  \n",
      "\n",
      "[5 rows x 46 columns]\n"
     ]
    }
   ],
   "source": [
    "from sklearn.preprocessing import StandardScaler\n",
    "\n",
    "# numerical columns to scale\n",
    "columns_to_scale = ['ae_num_diagnoses','ae_num_investigations', 'ae_num_treatments','provider_patient_distance_miles','length_of_stay_days']\n",
    "\n",
    "# Create a StandardScaler instance\n",
    "scaler = StandardScaler()\n",
    "\n",
    "# Fit the scaler on the selected columns and transform them\n",
    "ae2_scaled = ae2.copy()  # Make a copy of your encoded DataFrame\n",
    "ae2_scaled[columns_to_scale] = scaler.fit_transform(ae2_scaled[columns_to_scale])\n",
    "\n",
    "# Now ae_scaled contains your standardized features\n",
    "print(ae2_scaled.head())\n"
   ]
  },
  {
   "cell_type": "markdown",
   "id": "81c70943",
   "metadata": {
    "papermill": {
     "duration": 0.03202,
     "end_time": "2023-08-20T14:07:33.432337",
     "exception": false,
     "start_time": "2023-08-20T14:07:33.400317",
     "status": "completed"
    },
    "tags": []
   },
   "source": [
    "**Applying Machine Learning Models**"
   ]
  },
  {
   "cell_type": "code",
   "execution_count": 31,
   "id": "03adaa57",
   "metadata": {
    "execution": {
     "iopub.execute_input": "2023-08-20T14:07:33.500517Z",
     "iopub.status.busy": "2023-08-20T14:07:33.499464Z",
     "iopub.status.idle": "2023-08-20T14:07:34.155077Z",
     "shell.execute_reply": "2023-08-20T14:07:34.153652Z"
    },
    "papermill": {
     "duration": 0.69143,
     "end_time": "2023-08-20T14:07:34.157685",
     "exception": false,
     "start_time": "2023-08-20T14:07:33.466255",
     "status": "completed"
    },
    "tags": []
   },
   "outputs": [],
   "source": [
    "from sklearn.tree import DecisionTreeClassifier\n",
    "from sklearn.metrics import accuracy_score, confusion_matrix, classification_report\n",
    "from sklearn.metrics import f1_score,roc_auc_score,accuracy_score,roc_curve\n",
    "from sklearn.model_selection import train_test_split, GridSearchCV, RandomizedSearchCV, StratifiedKFold\n",
    "import xgboost as xgb\n",
    "from sklearn.ensemble import RandomForestClassifier"
   ]
  },
  {
   "cell_type": "code",
   "execution_count": 32,
   "id": "0e4192cb",
   "metadata": {
    "execution": {
     "iopub.execute_input": "2023-08-20T14:07:34.225271Z",
     "iopub.status.busy": "2023-08-20T14:07:34.224828Z",
     "iopub.status.idle": "2023-08-20T14:07:34.283465Z",
     "shell.execute_reply": "2023-08-20T14:07:34.281973Z"
    },
    "papermill": {
     "duration": 0.095709,
     "end_time": "2023-08-20T14:07:34.285837",
     "exception": false,
     "start_time": "2023-08-20T14:07:34.190128",
     "status": "completed"
    },
    "tags": []
   },
   "outputs": [
    {
     "name": "stdout",
     "output_type": "stream",
     "text": [
      "(69679, 45) (69679,)\n"
     ]
    }
   ],
   "source": [
    "from sklearn.model_selection import train_test_split\n",
    "\n",
    "# Step 1: Train-Test SplitING THE DATA\n",
    "X = ae2_scaled.drop(columns=[\"admitted_flag\"])  # Features\n",
    "y = ae2_scaled[\"admitted_flag\"]  # Target\n",
    "X_train, X_test, y_train, y_test = train_test_split(X, y, test_size=0.3, random_state=42)\n",
    "print(X_train.shape, y_train.shape)"
   ]
  },
  {
   "cell_type": "code",
   "execution_count": 33,
   "id": "c19a6b3a",
   "metadata": {
    "execution": {
     "iopub.execute_input": "2023-08-20T14:07:34.353858Z",
     "iopub.status.busy": "2023-08-20T14:07:34.352734Z",
     "iopub.status.idle": "2023-08-20T14:07:34.372592Z",
     "shell.execute_reply": "2023-08-20T14:07:34.371398Z"
    },
    "papermill": {
     "duration": 0.057005,
     "end_time": "2023-08-20T14:07:34.374950",
     "exception": false,
     "start_time": "2023-08-20T14:07:34.317945",
     "status": "completed"
    },
    "tags": []
   },
   "outputs": [
    {
     "data": {
      "text/html": [
       "<div>\n",
       "<style scoped>\n",
       "    .dataframe tbody tr th:only-of-type {\n",
       "        vertical-align: middle;\n",
       "    }\n",
       "\n",
       "    .dataframe tbody tr th {\n",
       "        vertical-align: top;\n",
       "    }\n",
       "\n",
       "    .dataframe thead th {\n",
       "        text-align: right;\n",
       "    }\n",
       "</style>\n",
       "<table border=\"1\" class=\"dataframe\">\n",
       "  <thead>\n",
       "    <tr style=\"text-align: right;\">\n",
       "      <th></th>\n",
       "      <th>ae_num_diagnoses</th>\n",
       "      <th>ae_num_investigations</th>\n",
       "      <th>ae_num_treatments</th>\n",
       "      <th>provider_patient_distance_miles</th>\n",
       "      <th>length_of_stay_days</th>\n",
       "      <th>age_band_1-17</th>\n",
       "      <th>age_band_18-24</th>\n",
       "      <th>age_band_25-44</th>\n",
       "      <th>age_band_45-64</th>\n",
       "      <th>age_band_65-84</th>\n",
       "      <th>...</th>\n",
       "      <th>icd10_chapter_code_XI</th>\n",
       "      <th>icd10_chapter_code_XIV</th>\n",
       "      <th>icd10_chapter_code_XIX</th>\n",
       "      <th>icd10_chapter_code_XVIII</th>\n",
       "      <th>ae_arrive_hourofday_01-04</th>\n",
       "      <th>ae_arrive_hourofday_05-08</th>\n",
       "      <th>ae_arrive_hourofday_09-12</th>\n",
       "      <th>ae_arrive_hourofday_13-16</th>\n",
       "      <th>ae_arrive_hourofday_17-20</th>\n",
       "      <th>ae_arrive_hourofday_21-24</th>\n",
       "    </tr>\n",
       "  </thead>\n",
       "  <tbody>\n",
       "    <tr>\n",
       "      <th>0</th>\n",
       "      <td>1.6247</td>\n",
       "      <td>-0.5039</td>\n",
       "      <td>-0.8073</td>\n",
       "      <td>0.0552</td>\n",
       "      <td>-0.3377</td>\n",
       "      <td>0</td>\n",
       "      <td>1</td>\n",
       "      <td>0</td>\n",
       "      <td>0</td>\n",
       "      <td>0</td>\n",
       "      <td>...</td>\n",
       "      <td>0</td>\n",
       "      <td>0</td>\n",
       "      <td>0</td>\n",
       "      <td>0</td>\n",
       "      <td>1</td>\n",
       "      <td>0</td>\n",
       "      <td>0</td>\n",
       "      <td>0</td>\n",
       "      <td>0</td>\n",
       "      <td>0</td>\n",
       "    </tr>\n",
       "    <tr>\n",
       "      <th>1</th>\n",
       "      <td>0.1941</td>\n",
       "      <td>-0.8296</td>\n",
       "      <td>-0.8073</td>\n",
       "      <td>-0.3632</td>\n",
       "      <td>-0.3377</td>\n",
       "      <td>1</td>\n",
       "      <td>0</td>\n",
       "      <td>0</td>\n",
       "      <td>0</td>\n",
       "      <td>0</td>\n",
       "      <td>...</td>\n",
       "      <td>0</td>\n",
       "      <td>0</td>\n",
       "      <td>0</td>\n",
       "      <td>0</td>\n",
       "      <td>0</td>\n",
       "      <td>0</td>\n",
       "      <td>0</td>\n",
       "      <td>0</td>\n",
       "      <td>0</td>\n",
       "      <td>1</td>\n",
       "    </tr>\n",
       "    <tr>\n",
       "      <th>2</th>\n",
       "      <td>0.1941</td>\n",
       "      <td>-0.8296</td>\n",
       "      <td>0.5611</td>\n",
       "      <td>-0.3632</td>\n",
       "      <td>-0.3377</td>\n",
       "      <td>0</td>\n",
       "      <td>0</td>\n",
       "      <td>0</td>\n",
       "      <td>1</td>\n",
       "      <td>0</td>\n",
       "      <td>...</td>\n",
       "      <td>0</td>\n",
       "      <td>0</td>\n",
       "      <td>0</td>\n",
       "      <td>0</td>\n",
       "      <td>0</td>\n",
       "      <td>0</td>\n",
       "      <td>0</td>\n",
       "      <td>1</td>\n",
       "      <td>0</td>\n",
       "      <td>0</td>\n",
       "    </tr>\n",
       "    <tr>\n",
       "      <th>3</th>\n",
       "      <td>0.1941</td>\n",
       "      <td>-0.8296</td>\n",
       "      <td>-0.3512</td>\n",
       "      <td>-0.3632</td>\n",
       "      <td>4.7539</td>\n",
       "      <td>0</td>\n",
       "      <td>0</td>\n",
       "      <td>0</td>\n",
       "      <td>0</td>\n",
       "      <td>0</td>\n",
       "      <td>...</td>\n",
       "      <td>0</td>\n",
       "      <td>0</td>\n",
       "      <td>0</td>\n",
       "      <td>0</td>\n",
       "      <td>0</td>\n",
       "      <td>0</td>\n",
       "      <td>0</td>\n",
       "      <td>0</td>\n",
       "      <td>1</td>\n",
       "      <td>0</td>\n",
       "    </tr>\n",
       "    <tr>\n",
       "      <th>4</th>\n",
       "      <td>0.1941</td>\n",
       "      <td>-0.5039</td>\n",
       "      <td>-0.3512</td>\n",
       "      <td>-0.3034</td>\n",
       "      <td>-0.3377</td>\n",
       "      <td>0</td>\n",
       "      <td>1</td>\n",
       "      <td>0</td>\n",
       "      <td>0</td>\n",
       "      <td>0</td>\n",
       "      <td>...</td>\n",
       "      <td>0</td>\n",
       "      <td>0</td>\n",
       "      <td>0</td>\n",
       "      <td>0</td>\n",
       "      <td>0</td>\n",
       "      <td>0</td>\n",
       "      <td>0</td>\n",
       "      <td>1</td>\n",
       "      <td>0</td>\n",
       "      <td>0</td>\n",
       "    </tr>\n",
       "  </tbody>\n",
       "</table>\n",
       "<p>5 rows × 45 columns</p>\n",
       "</div>"
      ],
      "text/plain": [
       "   ae_num_diagnoses  ae_num_investigations  ae_num_treatments  \\\n",
       "0            1.6247                -0.5039            -0.8073   \n",
       "1            0.1941                -0.8296            -0.8073   \n",
       "2            0.1941                -0.8296             0.5611   \n",
       "3            0.1941                -0.8296            -0.3512   \n",
       "4            0.1941                -0.5039            -0.3512   \n",
       "\n",
       "   provider_patient_distance_miles  length_of_stay_days  age_band_1-17  \\\n",
       "0                           0.0552              -0.3377              0   \n",
       "1                          -0.3632              -0.3377              1   \n",
       "2                          -0.3632              -0.3377              0   \n",
       "3                          -0.3632               4.7539              0   \n",
       "4                          -0.3034              -0.3377              0   \n",
       "\n",
       "   age_band_18-24  age_band_25-44  age_band_45-64  age_band_65-84  ...  \\\n",
       "0               1               0               0               0  ...   \n",
       "1               0               0               0               0  ...   \n",
       "2               0               0               1               0  ...   \n",
       "3               0               0               0               0  ...   \n",
       "4               1               0               0               0  ...   \n",
       "\n",
       "   icd10_chapter_code_XI  icd10_chapter_code_XIV  icd10_chapter_code_XIX  \\\n",
       "0                      0                       0                       0   \n",
       "1                      0                       0                       0   \n",
       "2                      0                       0                       0   \n",
       "3                      0                       0                       0   \n",
       "4                      0                       0                       0   \n",
       "\n",
       "   icd10_chapter_code_XVIII  ae_arrive_hourofday_01-04  \\\n",
       "0                         0                          1   \n",
       "1                         0                          0   \n",
       "2                         0                          0   \n",
       "3                         0                          0   \n",
       "4                         0                          0   \n",
       "\n",
       "   ae_arrive_hourofday_05-08  ae_arrive_hourofday_09-12  \\\n",
       "0                          0                          0   \n",
       "1                          0                          0   \n",
       "2                          0                          0   \n",
       "3                          0                          0   \n",
       "4                          0                          0   \n",
       "\n",
       "   ae_arrive_hourofday_13-16  ae_arrive_hourofday_17-20  \\\n",
       "0                          0                          0   \n",
       "1                          0                          0   \n",
       "2                          1                          0   \n",
       "3                          0                          1   \n",
       "4                          1                          0   \n",
       "\n",
       "   ae_arrive_hourofday_21-24  \n",
       "0                          0  \n",
       "1                          1  \n",
       "2                          0  \n",
       "3                          0  \n",
       "4                          0  \n",
       "\n",
       "[5 rows x 45 columns]"
      ]
     },
     "execution_count": 33,
     "metadata": {},
     "output_type": "execute_result"
    }
   ],
   "source": [
    "X.head()"
   ]
  },
  {
   "cell_type": "code",
   "execution_count": 34,
   "id": "4a644e9f",
   "metadata": {
    "execution": {
     "iopub.execute_input": "2023-08-20T14:07:34.442860Z",
     "iopub.status.busy": "2023-08-20T14:07:34.442449Z",
     "iopub.status.idle": "2023-08-20T14:07:35.613995Z",
     "shell.execute_reply": "2023-08-20T14:07:35.612773Z"
    },
    "papermill": {
     "duration": 1.208909,
     "end_time": "2023-08-20T14:07:35.617030",
     "exception": false,
     "start_time": "2023-08-20T14:07:34.408121",
     "status": "completed"
    },
    "tags": []
   },
   "outputs": [
    {
     "name": "stderr",
     "output_type": "stream",
     "text": [
      "/opt/conda/lib/python3.10/site-packages/sklearn/linear_model/_logistic.py:458: ConvergenceWarning: lbfgs failed to converge (status=1):\n",
      "STOP: TOTAL NO. of ITERATIONS REACHED LIMIT.\n",
      "\n",
      "Increase the number of iterations (max_iter) or scale the data as shown in:\n",
      "    https://scikit-learn.org/stable/modules/preprocessing.html\n",
      "Please also refer to the documentation for alternative solver options:\n",
      "    https://scikit-learn.org/stable/modules/linear_model.html#logistic-regression\n",
      "  n_iter_i = _check_optimize_result(\n"
     ]
    }
   ],
   "source": [
    "from sklearn.linear_model import LogisticRegression\n",
    "\n",
    "#Apply print Logistic regression model\n",
    "lrclassifier = LogisticRegression(random_state=42)\n",
    "lrclassifier.fit(X_train, y_train)\n",
    "lrprediction = lrclassifier.predict(X_test)\n"
   ]
  },
  {
   "cell_type": "code",
   "execution_count": 35,
   "id": "72b1f37f",
   "metadata": {
    "execution": {
     "iopub.execute_input": "2023-08-20T14:07:35.731199Z",
     "iopub.status.busy": "2023-08-20T14:07:35.730618Z",
     "iopub.status.idle": "2023-08-20T14:07:35.741074Z",
     "shell.execute_reply": "2023-08-20T14:07:35.740035Z"
    },
    "papermill": {
     "duration": 0.070333,
     "end_time": "2023-08-20T14:07:35.743385",
     "exception": false,
     "start_time": "2023-08-20T14:07:35.673052",
     "status": "completed"
    },
    "tags": []
   },
   "outputs": [
    {
     "name": "stdout",
     "output_type": "stream",
     "text": [
      "Accuracy of Logistic Rergression: 0.9959146770250812\n"
     ]
    }
   ],
   "source": [
    "#PRINT ACCURACY FOR LOGISTIC\n",
    "print('Accuracy of Logistic Rergression:', accuracy_score(lrprediction,y_test))"
   ]
  },
  {
   "cell_type": "code",
   "execution_count": 36,
   "id": "ae7fc91c",
   "metadata": {
    "execution": {
     "iopub.execute_input": "2023-08-20T14:07:35.809371Z",
     "iopub.status.busy": "2023-08-20T14:07:35.808978Z",
     "iopub.status.idle": "2023-08-20T14:07:35.872897Z",
     "shell.execute_reply": "2023-08-20T14:07:35.871685Z"
    },
    "papermill": {
     "duration": 0.099749,
     "end_time": "2023-08-20T14:07:35.875164",
     "exception": false,
     "start_time": "2023-08-20T14:07:35.775415",
     "status": "completed"
    },
    "tags": []
   },
   "outputs": [
    {
     "name": "stdout",
     "output_type": "stream",
     "text": [
      "              precision    recall  f1-score   support\n",
      "\n",
      "           0       0.99      1.00      1.00     14922\n",
      "           1       1.00      0.99      1.00     14941\n",
      "\n",
      "    accuracy                           1.00     29863\n",
      "   macro avg       1.00      1.00      1.00     29863\n",
      "weighted avg       1.00      1.00      1.00     29863\n",
      "\n"
     ]
    }
   ],
   "source": [
    "#Classification for Logistic regression\n",
    "print( classification_report(y_test, lrprediction))"
   ]
  },
  {
   "cell_type": "code",
   "execution_count": 37,
   "id": "fb3c71a7",
   "metadata": {
    "execution": {
     "iopub.execute_input": "2023-08-20T14:07:35.943171Z",
     "iopub.status.busy": "2023-08-20T14:07:35.941979Z",
     "iopub.status.idle": "2023-08-20T14:07:36.235400Z",
     "shell.execute_reply": "2023-08-20T14:07:36.234589Z"
    },
    "papermill": {
     "duration": 0.330007,
     "end_time": "2023-08-20T14:07:36.238074",
     "exception": false,
     "start_time": "2023-08-20T14:07:35.908067",
     "status": "completed"
    },
    "tags": []
   },
   "outputs": [
    {
     "data": {
      "image/png": "[encoded data removed]",
      "text/plain": [
       "<Figure size 500x500 with 2 Axes>"
      ]
     },
     "metadata": {},
     "output_type": "display_data"
    }
   ],
   "source": [
    "# confusion matrix to identify false psitives and false negatives\n",
    "cflr = pd.crosstab(y_test.values, lrprediction, rownames=['Actual'], colnames=['Predicted'])\n",
    "fig, (ax2) = plt.subplots(ncols=1, figsize=(5,5))\n",
    "sns.heatmap(cflr, fmt = \"d\",\n",
    "            xticklabels=['Not_admitted', 'Admitted'],\n",
    "            yticklabels=['Not admitted', 'Admitted'],\n",
    "            annot=True,ax=ax2,\n",
    "            linewidths=.2,linecolor=\"White\", cmap=\"Pastel1\")\n",
    "plt.title('Confusion Matrix for Logistic Regression', fontsize=14)\n",
    "plt.show()"
   ]
  },
  {
   "cell_type": "code",
   "execution_count": 38,
   "id": "6ed18a86",
   "metadata": {
    "execution": {
     "iopub.execute_input": "2023-08-20T14:07:36.307763Z",
     "iopub.status.busy": "2023-08-20T14:07:36.307150Z",
     "iopub.status.idle": "2023-08-20T14:07:36.324105Z",
     "shell.execute_reply": "2023-08-20T14:07:36.322578Z"
    },
    "papermill": {
     "duration": 0.054082,
     "end_time": "2023-08-20T14:07:36.326401",
     "exception": false,
     "start_time": "2023-08-20T14:07:36.272319",
     "status": "completed"
    },
    "tags": []
   },
   "outputs": [
    {
     "name": "stdout",
     "output_type": "stream",
     "text": [
      "Roc Score:  0.995917146781899\n"
     ]
    }
   ],
   "source": [
    "#print ROC curve score for LR\n",
    "rocaucscorelr=roc_auc_score(y_test.values, lrprediction)\n",
    "print('Roc Score: ',rocaucscorelr)"
   ]
  },
  {
   "cell_type": "code",
   "execution_count": 39,
   "id": "0d082635",
   "metadata": {
    "execution": {
     "iopub.execute_input": "2023-08-20T14:07:36.396049Z",
     "iopub.status.busy": "2023-08-20T14:07:36.395194Z",
     "iopub.status.idle": "2023-08-20T14:07:36.750740Z",
     "shell.execute_reply": "2023-08-20T14:07:36.749528Z"
    },
    "papermill": {
     "duration": 0.39209,
     "end_time": "2023-08-20T14:07:36.753102",
     "exception": false,
     "start_time": "2023-08-20T14:07:36.361012",
     "status": "completed"
    },
    "tags": []
   },
   "outputs": [
    {
     "name": "stdout",
     "output_type": "stream",
     "text": [
      "Accuracy of Decision Tree: 0.9941064193148712\n"
     ]
    }
   ],
   "source": [
    "#print prediction for Decision tree\n",
    "dtclassifier = DecisionTreeClassifier(random_state = 1, criterion=\"gini\",)\n",
    "dtclassifier.fit(X_train, y_train)\n",
    "dtprediction = dtclassifier.predict(X_test)\n",
    "print('Accuracy of Decision Tree:', accuracy_score(dtprediction,y_test))"
   ]
  },
  {
   "cell_type": "code",
   "execution_count": 40,
   "id": "8896ea7d",
   "metadata": {
    "execution": {
     "iopub.execute_input": "2023-08-20T14:07:36.821067Z",
     "iopub.status.busy": "2023-08-20T14:07:36.820509Z",
     "iopub.status.idle": "2023-08-20T14:07:36.886324Z",
     "shell.execute_reply": "2023-08-20T14:07:36.884826Z"
    },
    "papermill": {
     "duration": 0.102795,
     "end_time": "2023-08-20T14:07:36.888860",
     "exception": false,
     "start_time": "2023-08-20T14:07:36.786065",
     "status": "completed"
    },
    "tags": []
   },
   "outputs": [
    {
     "name": "stdout",
     "output_type": "stream",
     "text": [
      "              precision    recall  f1-score   support\n",
      "\n",
      "           0       1.00      0.99      0.99     14922\n",
      "           1       0.99      1.00      0.99     14941\n",
      "\n",
      "    accuracy                           0.99     29863\n",
      "   macro avg       0.99      0.99      0.99     29863\n",
      "weighted avg       0.99      0.99      0.99     29863\n",
      "\n"
     ]
    }
   ],
   "source": [
    "#Classification for Decision tree\n",
    "print( classification_report(y_test, dtprediction) )"
   ]
  },
  {
   "cell_type": "code",
   "execution_count": 41,
   "id": "f410d60d",
   "metadata": {
    "execution": {
     "iopub.execute_input": "2023-08-20T14:07:36.958677Z",
     "iopub.status.busy": "2023-08-20T14:07:36.958285Z",
     "iopub.status.idle": "2023-08-20T14:07:37.265271Z",
     "shell.execute_reply": "2023-08-20T14:07:37.263886Z"
    },
    "papermill": {
     "duration": 0.345615,
     "end_time": "2023-08-20T14:07:37.267944",
     "exception": false,
     "start_time": "2023-08-20T14:07:36.922329",
     "status": "completed"
    },
    "tags": []
   },
   "outputs": [
    {
     "data": {
      "image/png": "[encoded data removed]",
      "text/plain": [
       "<Figure size 500x500 with 2 Axes>"
      ]
     },
     "metadata": {},
     "output_type": "display_data"
    }
   ],
   "source": [
    "#Print Confusuion Matrix for decision trees\n",
    "cfdt = pd.crosstab(y_test.values, dtprediction, rownames=['Actual'], colnames=['Predicted'])\n",
    "fig, (ax2) = plt.subplots(ncols=1, figsize=(5,5))\n",
    "sns.heatmap(cfdt, fmt = \"d\",\n",
    "            xticklabels=['Not admitted', 'Admitted'],\n",
    "            yticklabels=['Not admitted', 'Admitted'],\n",
    "            annot=True,ax=ax2,\n",
    "            linewidths=.2,linecolor=\"Red\", cmap=\"Reds\")\n",
    "plt.title('Confusion Matrix for Decision Tree', fontsize=14)\n",
    "plt.show()"
   ]
  },
  {
   "cell_type": "code",
   "execution_count": 42,
   "id": "84281eb8",
   "metadata": {
    "execution": {
     "iopub.execute_input": "2023-08-20T14:07:37.341981Z",
     "iopub.status.busy": "2023-08-20T14:07:37.341488Z",
     "iopub.status.idle": "2023-08-20T14:07:37.359777Z",
     "shell.execute_reply": "2023-08-20T14:07:37.358468Z"
    },
    "papermill": {
     "duration": 0.058917,
     "end_time": "2023-08-20T14:07:37.362015",
     "exception": false,
     "start_time": "2023-08-20T14:07:37.303098",
     "status": "completed"
    },
    "tags": []
   },
   "outputs": [
    {
     "name": "stdout",
     "output_type": "stream",
     "text": [
      "Roc Score:  0.9941050533922908\n"
     ]
    }
   ],
   "source": [
    "#print ROC curve score\n",
    "rocaucscoredt=roc_auc_score(y_test.values, dtprediction)\n",
    "print('Roc Score: ',rocaucscoredt)"
   ]
  },
  {
   "cell_type": "code",
   "execution_count": 43,
   "id": "bb5ce0f2",
   "metadata": {
    "execution": {
     "iopub.execute_input": "2023-08-20T14:07:37.440519Z",
     "iopub.status.busy": "2023-08-20T14:07:37.439152Z",
     "iopub.status.idle": "2023-08-20T14:07:37.444727Z",
     "shell.execute_reply": "2023-08-20T14:07:37.443887Z"
    },
    "papermill": {
     "duration": 0.045787,
     "end_time": "2023-08-20T14:07:37.447246",
     "exception": false,
     "start_time": "2023-08-20T14:07:37.401459",
     "status": "completed"
    },
    "tags": []
   },
   "outputs": [],
   "source": [
    "# Importing KNN\n",
    "from sklearn.neighbors import KNeighborsClassifier"
   ]
  },
  {
   "cell_type": "code",
   "execution_count": 44,
   "id": "12644165",
   "metadata": {
    "execution": {
     "iopub.execute_input": "2023-08-20T14:07:37.522439Z",
     "iopub.status.busy": "2023-08-20T14:07:37.521435Z",
     "iopub.status.idle": "2023-08-20T14:07:50.988319Z",
     "shell.execute_reply": "2023-08-20T14:07:50.986865Z"
    },
    "papermill": {
     "duration": 13.508799,
     "end_time": "2023-08-20T14:07:50.990590",
     "exception": false,
     "start_time": "2023-08-20T14:07:37.481791",
     "status": "completed"
    },
    "tags": []
   },
   "outputs": [
    {
     "name": "stdout",
     "output_type": "stream",
     "text": [
      "[1 1 1 ... 0 0 0]\n",
      "0.9592472290124904\n"
     ]
    }
   ],
   "source": [
    "# fitting the knn model\n",
    "knn = KNeighborsClassifier(5)\n",
    "knn.fit(X_train, y_train)\n",
    "knn_pred = knn.predict(X_test)\n",
    "print(knn_pred)\n",
    "print(knn.score(X_test,y_test))"
   ]
  },
  {
   "cell_type": "code",
   "execution_count": 45,
   "id": "264c9a3c",
   "metadata": {
    "execution": {
     "iopub.execute_input": "2023-08-20T14:07:51.060127Z",
     "iopub.status.busy": "2023-08-20T14:07:51.059340Z",
     "iopub.status.idle": "2023-08-20T14:07:51.068592Z",
     "shell.execute_reply": "2023-08-20T14:07:51.067295Z"
    },
    "papermill": {
     "duration": 0.046332,
     "end_time": "2023-08-20T14:07:51.070826",
     "exception": false,
     "start_time": "2023-08-20T14:07:51.024494",
     "status": "completed"
    },
    "tags": []
   },
   "outputs": [
    {
     "name": "stdout",
     "output_type": "stream",
     "text": [
      "Accuracy of KNN: 0.9592472290124904\n"
     ]
    }
   ],
   "source": [
    "# print accuracy of knn\n",
    "print('Accuracy of KNN:', accuracy_score(knn_pred,y_test))"
   ]
  },
  {
   "cell_type": "code",
   "execution_count": 46,
   "id": "0fe14161",
   "metadata": {
    "execution": {
     "iopub.execute_input": "2023-08-20T14:07:51.142310Z",
     "iopub.status.busy": "2023-08-20T14:07:51.141865Z",
     "iopub.status.idle": "2023-08-20T14:07:51.206600Z",
     "shell.execute_reply": "2023-08-20T14:07:51.205397Z"
    },
    "papermill": {
     "duration": 0.103318,
     "end_time": "2023-08-20T14:07:51.208962",
     "exception": false,
     "start_time": "2023-08-20T14:07:51.105644",
     "status": "completed"
    },
    "tags": []
   },
   "outputs": [
    {
     "name": "stdout",
     "output_type": "stream",
     "text": [
      "              precision    recall  f1-score   support\n",
      "\n",
      "           0       0.93      0.99      0.96     14922\n",
      "           1       0.99      0.92      0.96     14941\n",
      "\n",
      "    accuracy                           0.96     29863\n",
      "   macro avg       0.96      0.96      0.96     29863\n",
      "weighted avg       0.96      0.96      0.96     29863\n",
      "\n"
     ]
    }
   ],
   "source": [
    "#Classification report for knn\n",
    "print( classification_report(y_test, knn_pred) )"
   ]
  },
  {
   "cell_type": "code",
   "execution_count": 47,
   "id": "94998ffc",
   "metadata": {
    "execution": {
     "iopub.execute_input": "2023-08-20T14:07:51.279494Z",
     "iopub.status.busy": "2023-08-20T14:07:51.279108Z",
     "iopub.status.idle": "2023-08-20T14:07:51.293009Z",
     "shell.execute_reply": "2023-08-20T14:07:51.291724Z"
    },
    "papermill": {
     "duration": 0.052339,
     "end_time": "2023-08-20T14:07:51.295461",
     "exception": false,
     "start_time": "2023-08-20T14:07:51.243122",
     "status": "completed"
    },
    "tags": []
   },
   "outputs": [
    {
     "name": "stdout",
     "output_type": "stream",
     "text": [
      "[[14835    87]\n",
      " [ 1130 13811]]\n"
     ]
    }
   ],
   "source": [
    "# print confussion matrix for knn\n",
    "print(confusion_matrix(y_test.values, knn_pred))"
   ]
  },
  {
   "cell_type": "code",
   "execution_count": 48,
   "id": "74c00d49",
   "metadata": {
    "execution": {
     "iopub.execute_input": "2023-08-20T14:07:51.366465Z",
     "iopub.status.busy": "2023-08-20T14:07:51.365746Z",
     "iopub.status.idle": "2023-08-20T14:07:51.601565Z",
     "shell.execute_reply": "2023-08-20T14:07:51.600483Z"
    },
    "papermill": {
     "duration": 0.273857,
     "end_time": "2023-08-20T14:07:51.603954",
     "exception": false,
     "start_time": "2023-08-20T14:07:51.330097",
     "status": "completed"
    },
    "tags": []
   },
   "outputs": [
    {
     "data": {
      "image/png": "[encoded data removed]",
      "text/plain": [
       "<Figure size 640x480 with 2 Axes>"
      ]
     },
     "metadata": {},
     "output_type": "display_data"
    }
   ],
   "source": [
    "# visualize confusion matrix for knn\n",
    "cmknn = confusion_matrix(y_test, knn_pred)\n",
    "ax= plt.subplot()\n",
    "sns.heatmap(cmknn, annot=True, fmt='g', ax=ax);  #annot=True to annotate cells, ftm='g' to disable scientific notation\n",
    "\n",
    "# labels, title and ticks\n",
    "ax.set_xlabel('Predicted labels');ax.set_ylabel('True labels'); \n",
    "ax.set_title('Confusion Matrix for K-Neighbors'); \n",
    "ax.xaxis.set_ticklabels(['Not admitted', 'Admitted']); ax.yaxis.set_ticklabels(['Not admitted', 'Admitted'])\n",
    "plt.show()"
   ]
  },
  {
   "cell_type": "code",
   "execution_count": 49,
   "id": "8d3083a4",
   "metadata": {
    "execution": {
     "iopub.execute_input": "2023-08-20T14:07:51.676269Z",
     "iopub.status.busy": "2023-08-20T14:07:51.675614Z",
     "iopub.status.idle": "2023-08-20T14:07:51.688701Z",
     "shell.execute_reply": "2023-08-20T14:07:51.687696Z"
    },
    "papermill": {
     "duration": 0.051714,
     "end_time": "2023-08-20T14:07:51.690805",
     "exception": false,
     "start_time": "2023-08-20T14:07:51.639091",
     "status": "completed"
    },
    "tags": []
   },
   "outputs": [
    {
     "name": "stdout",
     "output_type": "stream",
     "text": [
      "Roc Score:  0.9592694339055156\n"
     ]
    }
   ],
   "source": [
    "#print ROC curve score for KNN\n",
    "rocaucscoreknn=roc_auc_score(y_test.values, knn_pred)\n",
    "print('Roc Score: ',rocaucscoreknn)"
   ]
  },
  {
   "cell_type": "code",
   "execution_count": 50,
   "id": "46be230b",
   "metadata": {
    "execution": {
     "iopub.execute_input": "2023-08-20T14:07:51.765756Z",
     "iopub.status.busy": "2023-08-20T14:07:51.764650Z",
     "iopub.status.idle": "2023-08-20T14:09:08.443168Z",
     "shell.execute_reply": "2023-08-20T14:09:08.441793Z"
    },
    "papermill": {
     "duration": 76.756649,
     "end_time": "2023-08-20T14:09:08.483744",
     "exception": false,
     "start_time": "2023-08-20T14:07:51.727095",
     "status": "completed"
    },
    "tags": []
   },
   "outputs": [
    {
     "name": "stdout",
     "output_type": "stream",
     "text": [
      "              precision    recall  f1-score   support\n",
      "\n",
      "           0       0.99      1.00      1.00     14922\n",
      "           1       1.00      0.99      1.00     14941\n",
      "\n",
      "    accuracy                           1.00     29863\n",
      "   macro avg       1.00      1.00      1.00     29863\n",
      "weighted avg       1.00      1.00      1.00     29863\n",
      "\n"
     ]
    }
   ],
   "source": [
    "# Attempting to use Support Vector Machine\n",
    "from sklearn.svm import SVC\n",
    "# train the model on train set\n",
    "model = SVC()\n",
    "model.fit(X_train, y_train)\n",
    "  \n",
    "# print prediction results\n",
    "predictions = model.predict(X_test)\n",
    "print(classification_report(y_test, predictions))\n",
    " "
   ]
  },
  {
   "cell_type": "code",
   "execution_count": 51,
   "id": "2c5c282e",
   "metadata": {
    "execution": {
     "iopub.execute_input": "2023-08-20T14:09:08.557543Z",
     "iopub.status.busy": "2023-08-20T14:09:08.557093Z",
     "iopub.status.idle": "2023-08-20T14:09:08.567581Z",
     "shell.execute_reply": "2023-08-20T14:09:08.565768Z"
    },
    "papermill": {
     "duration": 0.051311,
     "end_time": "2023-08-20T14:09:08.569929",
     "exception": false,
     "start_time": "2023-08-20T14:09:08.518618",
     "status": "completed"
    },
    "tags": []
   },
   "outputs": [
    {
     "name": "stdout",
     "output_type": "stream",
     "text": [
      "Accuracy of SVM: 0.9952784382011184\n"
     ]
    }
   ],
   "source": [
    "# Printing accuracy of svm\n",
    "print('Accuracy of SVM:', accuracy_score(predictions,y_test))"
   ]
  },
  {
   "cell_type": "code",
   "execution_count": 52,
   "id": "0b9708a5",
   "metadata": {
    "execution": {
     "iopub.execute_input": "2023-08-20T14:09:08.643986Z",
     "iopub.status.busy": "2023-08-20T14:09:08.642919Z",
     "iopub.status.idle": "2023-08-20T14:09:08.914282Z",
     "shell.execute_reply": "2023-08-20T14:09:08.913453Z"
    },
    "papermill": {
     "duration": 0.310082,
     "end_time": "2023-08-20T14:09:08.916501",
     "exception": false,
     "start_time": "2023-08-20T14:09:08.606419",
     "status": "completed"
    },
    "tags": []
   },
   "outputs": [
    {
     "data": {
      "image/png": "[encoded data removed]",
      "text/plain": [
       "<Figure size 640x480 with 2 Axes>"
      ]
     },
     "metadata": {},
     "output_type": "display_data"
    }
   ],
   "source": [
    "# visualize confusion matrix for knn\n",
    "cmsvm = confusion_matrix(y_test, predictions)\n",
    "ax= plt.subplot()\n",
    "sns.heatmap(cmsvm, annot=True, fmt='g', ax=ax);  #annot=True to annotate cells, ftm='g' to disable scientific notation\n",
    "\n",
    "# labels, title and ticks\n",
    "ax.set_xlabel('Predicted labels');ax.set_ylabel('True labels'); \n",
    "ax.set_title('Confusion Matrix for SVM'); \n",
    "ax.xaxis.set_ticklabels(['Not admitted', 'Admitted']); ax.yaxis.set_ticklabels(['Not admitted', 'Admitted'])\n",
    "plt.show()"
   ]
  },
  {
   "cell_type": "code",
   "execution_count": 53,
   "id": "5539571a",
   "metadata": {
    "execution": {
     "iopub.execute_input": "2023-08-20T14:09:08.991614Z",
     "iopub.status.busy": "2023-08-20T14:09:08.990873Z",
     "iopub.status.idle": "2023-08-20T14:09:16.146928Z",
     "shell.execute_reply": "2023-08-20T14:09:16.145193Z"
    },
    "papermill": {
     "duration": 7.195546,
     "end_time": "2023-08-20T14:09:16.148864",
     "exception": true,
     "start_time": "2023-08-20T14:09:08.953318",
     "status": "failed"
    },
    "tags": []
   },
   "outputs": [
    {
     "ename": "NameError",
     "evalue": "name 'y_pred' is not defined",
     "output_type": "error",
     "traceback": [
      "\u001b[0;31m---------------------------------------------------------------------------\u001b[0m",
      "\u001b[0;31mNameError\u001b[0m                                 Traceback (most recent call last)",
      "Cell \u001b[0;32mIn[53], line 6\u001b[0m\n\u001b[1;32m      3\u001b[0m rf\u001b[38;5;241m.\u001b[39mfit(X_train, y_train)\n\u001b[1;32m      5\u001b[0m rf_pred \u001b[38;5;241m=\u001b[39m rf\u001b[38;5;241m.\u001b[39mpredict(X_test)\n\u001b[0;32m----> 6\u001b[0m \u001b[38;5;28mprint\u001b[39m(\u001b[38;5;124m'\u001b[39m\u001b[38;5;124mAccuracy of rf:\u001b[39m\u001b[38;5;124m'\u001b[39m, accuracy_score(y_test,\u001b[43my_pred\u001b[49m))\n",
      "\u001b[0;31mNameError\u001b[0m: name 'y_pred' is not defined"
     ]
    }
   ],
   "source": [
    "from sklearn.ensemble import RandomForestClassifier\n",
    "rf = RandomForestClassifier()\n",
    "rf.fit(X_train, y_train)\n",
    "\n",
    "rf_pred = rf.predict(X_test)\n",
    "print('Accuracy of rf:', accuracy_score(y_test,y_pred))"
   ]
  },
  {
   "cell_type": "code",
   "execution_count": null,
   "id": "8f784507",
   "metadata": {
    "execution": {
     "iopub.execute_input": "2023-08-20T14:06:39.786207Z",
     "iopub.status.busy": "2023-08-20T14:06:39.785882Z",
     "iopub.status.idle": "2023-08-20T14:06:40.102029Z",
     "shell.execute_reply": "2023-08-20T14:06:40.100956Z",
     "shell.execute_reply.started": "2023-08-20T14:06:39.786177Z"
    },
    "papermill": {
     "duration": null,
     "end_time": null,
     "exception": null,
     "start_time": null,
     "status": "pending"
    },
    "tags": []
   },
   "outputs": [],
   "source": [
    "# visualize confusion matrix for random forrest\n",
    "cmrf = confusion_matrix(y_test, y_pred)\n",
    "ax= plt.subplot()\n",
    "sns.heatmap(cmrf, annot=True, fmt='g', ax=ax);  #annot=True to annotate cells, ftm='g' to disable scientific notation\n",
    "# labels, title and ticks\n",
    "ax.set_xlabel('Predicted labels');ax.set_ylabel('True labels'); \n",
    "ax.set_title('Confusion Matrix for RF'); \n",
    "ax.xaxis.set_ticklabels(['Not admitted', 'Admitted']); ax.yaxis.set_ticklabels(['Not admitted', 'Admitted'])\n",
    "plt.show()\n"
   ]
  },
  {
   "cell_type": "markdown",
   "id": "72a810cd",
   "metadata": {
    "papermill": {
     "duration": null,
     "end_time": null,
     "exception": null,
     "start_time": null,
     "status": "pending"
    },
    "tags": []
   },
   "source": [
    "**Test dataset processing and prediction**"
   ]
  },
  {
   "cell_type": "markdown",
   "id": "195b7f58",
   "metadata": {
    "papermill": {
     "duration": null,
     "end_time": null,
     "exception": null,
     "start_time": null,
     "status": "pending"
    },
    "tags": []
   },
   "source": [
    "The test data set provided without the admitted flag is processed"
   ]
  },
  {
   "cell_type": "code",
   "execution_count": null,
   "id": "046bbb32",
   "metadata": {
    "execution": {
     "iopub.execute_input": "2023-08-20T14:06:40.104321Z",
     "iopub.status.busy": "2023-08-20T14:06:40.103813Z",
     "iopub.status.idle": "2023-08-20T14:06:40.240575Z",
     "shell.execute_reply": "2023-08-20T14:06:40.239643Z",
     "shell.execute_reply.started": "2023-08-20T14:06:40.104281Z"
    },
    "papermill": {
     "duration": null,
     "end_time": null,
     "exception": null,
     "start_time": null,
     "status": "pending"
    },
    "tags": []
   },
   "outputs": [],
   "source": [
    "ae3 = pd.read_csv('/kaggle/input/bip-ae-technical-challenge/test_set.csv')"
   ]
  },
  {
   "cell_type": "code",
   "execution_count": null,
   "id": "700794e9",
   "metadata": {
    "execution": {
     "iopub.execute_input": "2023-08-20T14:06:40.242705Z",
     "iopub.status.busy": "2023-08-20T14:06:40.241958Z",
     "iopub.status.idle": "2023-08-20T14:06:40.434573Z",
     "shell.execute_reply": "2023-08-20T14:06:40.433221Z",
     "shell.execute_reply.started": "2023-08-20T14:06:40.242665Z"
    },
    "papermill": {
     "duration": null,
     "end_time": null,
     "exception": null,
     "start_time": null,
     "status": "pending"
    },
    "tags": []
   },
   "outputs": [],
   "source": [
    "ae3.isnull().values.any()\n",
    "\n",
    "#checking missing values in test dataset columnwise\n",
    "ae3.isna().sum()"
   ]
  },
  {
   "cell_type": "code",
   "execution_count": null,
   "id": "155763e0",
   "metadata": {
    "execution": {
     "iopub.execute_input": "2023-08-20T14:06:40.436385Z",
     "iopub.status.busy": "2023-08-20T14:06:40.436043Z",
     "iopub.status.idle": "2023-08-20T14:06:40.453997Z",
     "shell.execute_reply": "2023-08-20T14:06:40.453095Z",
     "shell.execute_reply.started": "2023-08-20T14:06:40.436356Z"
    },
    "papermill": {
     "duration": null,
     "end_time": null,
     "exception": null,
     "start_time": null,
     "status": "pending"
    },
    "tags": []
   },
   "outputs": [],
   "source": [
    "# viewing the first 5 data points of the test data set\n",
    "ae3.head()"
   ]
  },
  {
   "cell_type": "code",
   "execution_count": null,
   "id": "757f6804",
   "metadata": {
    "execution": {
     "iopub.execute_input": "2023-08-20T14:06:40.456002Z",
     "iopub.status.busy": "2023-08-20T14:06:40.455078Z",
     "iopub.status.idle": "2023-08-20T14:06:40.467615Z",
     "shell.execute_reply": "2023-08-20T14:06:40.466599Z",
     "shell.execute_reply.started": "2023-08-20T14:06:40.455971Z"
    },
    "papermill": {
     "duration": null,
     "end_time": null,
     "exception": null,
     "start_time": null,
     "status": "pending"
    },
    "tags": []
   },
   "outputs": [],
   "source": [
    "#Getting the shape of test data\n",
    "ae3.shape"
   ]
  },
  {
   "cell_type": "code",
   "execution_count": null,
   "id": "99d2b1f6",
   "metadata": {
    "execution": {
     "iopub.execute_input": "2023-08-20T14:06:40.468890Z",
     "iopub.status.busy": "2023-08-20T14:06:40.468541Z",
     "iopub.status.idle": "2023-08-20T14:06:40.483766Z",
     "shell.execute_reply": "2023-08-20T14:06:40.482662Z",
     "shell.execute_reply.started": "2023-08-20T14:06:40.468837Z"
    },
    "papermill": {
     "duration": null,
     "end_time": null,
     "exception": null,
     "start_time": null,
     "status": "pending"
    },
    "tags": []
   },
   "outputs": [],
   "source": [
    "# Convert all column names to lowercase\n",
    "ae3.columns = ae3.columns.str.lower()\n",
    "print(ae3.columns)"
   ]
  },
  {
   "cell_type": "code",
   "execution_count": null,
   "id": "2045e1e8",
   "metadata": {
    "execution": {
     "iopub.execute_input": "2023-08-20T14:06:40.485962Z",
     "iopub.status.busy": "2023-08-20T14:06:40.485254Z",
     "iopub.status.idle": "2023-08-20T14:06:40.521094Z",
     "shell.execute_reply": "2023-08-20T14:06:40.520031Z",
     "shell.execute_reply.started": "2023-08-20T14:06:40.485919Z"
    },
    "papermill": {
     "duration": null,
     "end_time": null,
     "exception": null,
     "start_time": null,
     "status": "pending"
    },
    "tags": []
   },
   "outputs": [],
   "source": [
    "mode = ae3['imd_decile_from_lsoa'].mode()\n",
    "median = ae3['imd_decile_from_lsoa'].median()\n",
    "print(mode)\n",
    "print(median)\n",
    "\n",
    "print(ae3['ae_arrive_hourofday'].mode())\n",
    "print(ae3['ae_hrg'].mode())\n",
    "print(ae3['sex'].mode())"
   ]
  },
  {
   "cell_type": "code",
   "execution_count": null,
   "id": "548bbeed",
   "metadata": {
    "execution": {
     "iopub.execute_input": "2023-08-20T14:06:40.523677Z",
     "iopub.status.busy": "2023-08-20T14:06:40.523335Z",
     "iopub.status.idle": "2023-08-20T14:06:40.558716Z",
     "shell.execute_reply": "2023-08-20T14:06:40.557545Z",
     "shell.execute_reply.started": "2023-08-20T14:06:40.523647Z"
    },
    "papermill": {
     "duration": null,
     "end_time": null,
     "exception": null,
     "start_time": null,
     "status": "pending"
    },
    "tags": []
   },
   "outputs": [],
   "source": [
    "#Dealing with the null values in test dataset\n",
    "ae3['sex'].fillna(3.0000, inplace=True) #3.0000 stands for unknown gender\n",
    "ae3['icd10_chapter_code'].fillna('Unknown', inplace=True)\n",
    "ae3['length_of_stay_days'].fillna(0, inplace=True)\n",
    "ae3['treatment_function_code'].fillna(\"Unknown\", inplace=True)\n",
    "ae3['imd_decile_from_lsoa'].fillna(1.0000, inplace=True)\n",
    "ae3['ae_arrive_hourofday'].fillna(\"09-12\", inplace = True)\n",
    "ae3['ae_hrg'].fillna(\"Low\", inplace=True)\n",
    "print(\"Shape of cleaned DataFrame:\", ae3.shape)"
   ]
  },
  {
   "cell_type": "code",
   "execution_count": null,
   "id": "1ef420a7",
   "metadata": {
    "execution": {
     "iopub.execute_input": "2023-08-20T14:06:40.563683Z",
     "iopub.status.busy": "2023-08-20T14:06:40.560280Z",
     "iopub.status.idle": "2023-08-20T14:06:40.570494Z",
     "shell.execute_reply": "2023-08-20T14:06:40.569437Z",
     "shell.execute_reply.started": "2023-08-20T14:06:40.563650Z"
    },
    "papermill": {
     "duration": null,
     "end_time": null,
     "exception": null,
     "start_time": null,
     "status": "pending"
    },
    "tags": []
   },
   "outputs": [],
   "source": [
    "#Fill in provider_patient_distance_miles missing values in test data set using mean\n",
    "ae3['provider_patient_distance_miles'].fillna(ae3['provider_patient_distance_miles'].mean(), inplace=True)"
   ]
  },
  {
   "cell_type": "code",
   "execution_count": null,
   "id": "5227f2a2",
   "metadata": {
    "execution": {
     "iopub.execute_input": "2023-08-20T14:06:40.573015Z",
     "iopub.status.busy": "2023-08-20T14:06:40.572305Z",
     "iopub.status.idle": "2023-08-20T14:06:40.680575Z",
     "shell.execute_reply": "2023-08-20T14:06:40.679520Z",
     "shell.execute_reply.started": "2023-08-20T14:06:40.572977Z"
    },
    "papermill": {
     "duration": null,
     "end_time": null,
     "exception": null,
     "start_time": null,
     "status": "pending"
    },
    "tags": []
   },
   "outputs": [],
   "source": [
    " # calculating the sum of null values across all the columns in test dataset\n",
    "(ae3.isnull().sum())"
   ]
  },
  {
   "cell_type": "code",
   "execution_count": null,
   "id": "230c7644",
   "metadata": {
    "execution": {
     "iopub.execute_input": "2023-08-20T14:06:40.682314Z",
     "iopub.status.busy": "2023-08-20T14:06:40.681980Z",
     "iopub.status.idle": "2023-08-20T14:06:40.700390Z",
     "shell.execute_reply": "2023-08-20T14:06:40.699142Z",
     "shell.execute_reply.started": "2023-08-20T14:06:40.682285Z"
    },
    "papermill": {
     "duration": null,
     "end_time": null,
     "exception": null,
     "start_time": null,
     "status": "pending"
    },
    "tags": []
   },
   "outputs": [],
   "source": [
    "# Viewing the first 5 data points of the test data set\n",
    "ae3.head()"
   ]
  },
  {
   "cell_type": "code",
   "execution_count": null,
   "id": "eb434ef1",
   "metadata": {
    "execution": {
     "iopub.execute_input": "2023-08-20T14:06:40.702315Z",
     "iopub.status.busy": "2023-08-20T14:06:40.701881Z",
     "iopub.status.idle": "2023-08-20T14:06:40.713865Z",
     "shell.execute_reply": "2023-08-20T14:06:40.712907Z",
     "shell.execute_reply.started": "2023-08-20T14:06:40.702284Z"
    },
    "papermill": {
     "duration": null,
     "end_time": null,
     "exception": null,
     "start_time": null,
     "status": "pending"
    },
    "tags": []
   },
   "outputs": [],
   "source": [
    "# Convert 'Provider_Patient_Distance_Miles', 'length_of_stay_days', 'imd_decile_from_lsoa' columns to integers in test data set\n",
    "ae3['sex'] = ae3['sex'].astype(int)\n",
    "ae3['length_of_stay_days'] = ae3['length_of_stay_days'].astype(int)\n",
    "ae3['provider_patient_distance_miles'] = ae3['provider_patient_distance_miles'].astype(int)\n",
    "ae3['imd_decile_from_lsoa'] = ae3['imd_decile_from_lsoa'].astype(int)\n"
   ]
  },
  {
   "cell_type": "code",
   "execution_count": null,
   "id": "2fa853ee",
   "metadata": {
    "execution": {
     "iopub.execute_input": "2023-08-20T14:06:40.715606Z",
     "iopub.status.busy": "2023-08-20T14:06:40.715194Z",
     "iopub.status.idle": "2023-08-20T14:06:41.011341Z",
     "shell.execute_reply": "2023-08-20T14:06:41.010530Z",
     "shell.execute_reply.started": "2023-08-20T14:06:40.715576Z"
    },
    "papermill": {
     "duration": null,
     "end_time": null,
     "exception": null,
     "start_time": null,
     "status": "pending"
    },
    "tags": []
   },
   "outputs": [],
   "source": [
    "# Calculate the count of each age band on-the-fly using value_counts()\n",
    "age_band_counts = ae3['age_band'].value_counts()\n",
    "\n",
    "# Plotting the age band distribution as a bar chart\n",
    "plt.figure(figsize=(8, 6))\n",
    "plt.bar(age_band_counts.index, age_band_counts)\n",
    "plt.xlabel('Age Band (Grouped as Integers)')\n",
    "plt.ylabel('Count')\n",
    "plt.title('Distribution of Age Bands for Test Data Set')\n",
    "plt.xticks(rotation=0)  # If age bands are represented by integer labels, no need to rotate x-axis labels\n",
    "\n",
    "plt.show()"
   ]
  },
  {
   "cell_type": "markdown",
   "id": "14c924cf",
   "metadata": {
    "papermill": {
     "duration": null,
     "end_time": null,
     "exception": null,
     "start_time": null,
     "status": "pending"
    },
    "tags": []
   },
   "source": [
    "From the chart for the test data set, it can be deduced that the 65-84 and 25-44 age bands are the most populous and the ageband distribution in the test dataset is consistent with the training data set"
   ]
  },
  {
   "cell_type": "code",
   "execution_count": null,
   "id": "2973cbef",
   "metadata": {
    "execution": {
     "iopub.execute_input": "2023-08-20T14:06:41.013509Z",
     "iopub.status.busy": "2023-08-20T14:06:41.012498Z",
     "iopub.status.idle": "2023-08-20T14:06:41.230417Z",
     "shell.execute_reply": "2023-08-20T14:06:41.228998Z",
     "shell.execute_reply.started": "2023-08-20T14:06:41.013470Z"
    },
    "papermill": {
     "duration": null,
     "end_time": null,
     "exception": null,
     "start_time": null,
     "status": "pending"
    },
    "tags": []
   },
   "outputs": [],
   "source": [
    "#checking gender distribution\n",
    "#first check the overall distribution of age then gender\n",
    "\n",
    "plt.figure(figsize=(18,12))\n",
    "plt.subplot(221)\n",
    "ae3[\"sex\"].value_counts().plot.pie(x=1, autopct = \"%1.0f%%\",colors = sns.color_palette(\"prism\",5),startangle = 60,labels=[\"Male\",\"Female\", \"Unknown\"],\n",
    "wedgeprops={\"linewidth\":2,\"edgecolor\":\"k\"},explode=[.1,.1,.1],shadow =True)\n",
    "\n",
    "plt.title(\"Distribution of Gender for Test Data Set\")\n",
    "plt.show()\n"
   ]
  },
  {
   "cell_type": "markdown",
   "id": "cba884e4",
   "metadata": {
    "papermill": {
     "duration": null,
     "end_time": null,
     "exception": null,
     "start_time": null,
     "status": "pending"
    },
    "tags": []
   },
   "source": [
    "The chart above shows 51% of the overall dataset are male and the other 48% are females for the test data set with an estimated 1% being unknown showing consistency with the training data set"
   ]
  },
  {
   "cell_type": "code",
   "execution_count": null,
   "id": "5c6a5efa",
   "metadata": {
    "execution": {
     "iopub.execute_input": "2023-08-20T14:06:41.233775Z",
     "iopub.status.busy": "2023-08-20T14:06:41.232482Z",
     "iopub.status.idle": "2023-08-20T14:06:41.479523Z",
     "shell.execute_reply": "2023-08-20T14:06:41.478407Z",
     "shell.execute_reply.started": "2023-08-20T14:06:41.233721Z"
    },
    "papermill": {
     "duration": null,
     "end_time": null,
     "exception": null,
     "start_time": null,
     "status": "pending"
    },
    "tags": []
   },
   "outputs": [],
   "source": [
    "# TEST DATA SET\n",
    "# convert numerical categorical columns by one-hot encoding\n",
    "\n",
    "# Create a new DataFrame to store one-hot encoded columns\n",
    "columns_to_exclude = [\"ae_arrive_date\", \"ae_time_mins\", \"provid\", \"record_id\", \"treatment_function_code\"]\n",
    "ae4 = ae3.drop(columns=columns_to_exclude)\n",
    "\n",
    "# Select the columns for one-hot encoding\n",
    "columns_to_encode = [\"age_band\",\"imd_decile_from_lsoa\", \"sex\", \"ae_arrival_mode\", 'ae_hrg', 'icd10_chapter_code', \"ae_arrive_hourofday\"]\n",
    "\n",
    "# Convert numerical categorical columns to strings\n",
    "for col in columns_to_encode:\n",
    "    ae4[col] = ae4[col].astype(str)\n",
    "\n",
    "# Perform one-hot encoding using pandas get_dummies\n",
    "one_hot_encoded = pd.get_dummies(ae4[columns_to_encode], prefix=columns_to_encode)\n",
    "\n",
    "# Concatenate the one-hot encoded columns with the new DataFrame\n",
    "ae4 = pd.concat([ae4, one_hot_encoded], axis=1)\n",
    "\n",
    "# Drop the original encoded columns\n",
    "ae4.drop(columns=[\"age_band\",\"imd_decile_from_lsoa\", \"sex\", \"ae_arrival_mode\", 'ae_hrg', 'icd10_chapter_code', \"ae_arrive_hourofday\"], inplace=True)\n",
    "\n",
    "# Print the transformed DataFrame\n",
    "(ae4.head(10))"
   ]
  },
  {
   "cell_type": "code",
   "execution_count": null,
   "id": "9dbf9a0d",
   "metadata": {
    "execution": {
     "iopub.execute_input": "2023-08-20T14:06:41.481306Z",
     "iopub.status.busy": "2023-08-20T14:06:41.480964Z",
     "iopub.status.idle": "2023-08-20T14:06:41.506466Z",
     "shell.execute_reply": "2023-08-20T14:06:41.505324Z",
     "shell.execute_reply.started": "2023-08-20T14:06:41.481277Z"
    },
    "papermill": {
     "duration": null,
     "end_time": null,
     "exception": null,
     "start_time": null,
     "status": "pending"
    },
    "tags": []
   },
   "outputs": [],
   "source": [
    "# Fit the scaler on the selected columns and transform them FOR TEST DATA SET\n",
    "ae4_scaled = ae4.copy()  # Make a copy of your encoded DataFrame\n",
    "ae4_scaled[columns_to_scale] = scaler.fit_transform(ae4_scaled[columns_to_scale])\n",
    "\n",
    "# Now ae_scaled contains your standardized features\n",
    "print(ae4_scaled.head())"
   ]
  },
  {
   "cell_type": "code",
   "execution_count": null,
   "id": "47766f89",
   "metadata": {
    "execution": {
     "iopub.execute_input": "2023-08-20T14:06:41.508802Z",
     "iopub.status.busy": "2023-08-20T14:06:41.507968Z",
     "iopub.status.idle": "2023-08-20T14:06:41.529768Z",
     "shell.execute_reply": "2023-08-20T14:06:41.528505Z",
     "shell.execute_reply.started": "2023-08-20T14:06:41.508770Z"
    },
    "papermill": {
     "duration": null,
     "end_time": null,
     "exception": null,
     "start_time": null,
     "status": "pending"
    },
    "tags": []
   },
   "outputs": [],
   "source": [
    "X_final = ae4_scaled\n",
    "X_final.head()"
   ]
  },
  {
   "cell_type": "code",
   "execution_count": null,
   "id": "9ea43554",
   "metadata": {
    "execution": {
     "iopub.execute_input": "2023-08-20T14:06:41.532043Z",
     "iopub.status.busy": "2023-08-20T14:06:41.531607Z",
     "iopub.status.idle": "2023-08-20T14:06:41.552763Z",
     "shell.execute_reply": "2023-08-20T14:06:41.550378Z",
     "shell.execute_reply.started": "2023-08-20T14:06:41.532001Z"
    },
    "papermill": {
     "duration": null,
     "end_time": null,
     "exception": null,
     "start_time": null,
     "status": "pending"
    },
    "tags": []
   },
   "outputs": [],
   "source": [
    "# Prediction with logistic regression using final test data set\n",
    "lrpred_final = lrclassifier.predict(X_final)\n",
    "print(lrpred_final)"
   ]
  },
  {
   "cell_type": "code",
   "execution_count": null,
   "id": "82d9fd13",
   "metadata": {
    "execution": {
     "iopub.execute_input": "2023-08-20T14:06:41.555288Z",
     "iopub.status.busy": "2023-08-20T14:06:41.554735Z",
     "iopub.status.idle": "2023-08-20T14:06:41.741676Z",
     "shell.execute_reply": "2023-08-20T14:06:41.740627Z",
     "shell.execute_reply.started": "2023-08-20T14:06:41.555237Z"
    },
    "papermill": {
     "duration": null,
     "end_time": null,
     "exception": null,
     "start_time": null,
     "status": "pending"
    },
    "tags": []
   },
   "outputs": [],
   "source": [
    "#  Converting lrpred_final from Np to DF\n",
    "predictions_col_lr = pd.DataFrame()\n",
    "predictions_col_lr['Admission flag'] = lrpred_final.tolist()\n",
    "\n",
    "\n",
    "# adding predictions to test data\n",
    "# df_out = pd.merge(df_data, predictions_col, left_index = True, right_index = True)\n",
    "# df_out\n",
    "df_out_lr = pd.merge(X_final, predictions_col_lr, left_index = True, right_index = True)\n",
    "\n",
    "# Make the record id into a dataframe\n",
    "record_f = pd.DataFrame()\n",
    "record_f[\"record id\"] = ae3[\"record_id\"].tolist()\n",
    "\n",
    "# Merge the record id into the existing dataframe\n",
    "lr_prediction_file = pd.merge(df_out_lr, record_f, left_index = True, right_index = True)\n",
    "\n",
    "# Subset the skinny dataframe\n",
    "ae_lr_skinny = lr_prediction_file.loc[:, [\"record id\", \"Admission flag\"]]\n",
    "print(ae_lr_skinny)"
   ]
  },
  {
   "cell_type": "code",
   "execution_count": null,
   "id": "eb97294a",
   "metadata": {
    "execution": {
     "iopub.execute_input": "2023-08-20T14:06:41.743047Z",
     "iopub.status.busy": "2023-08-20T14:06:41.742759Z",
     "iopub.status.idle": "2023-08-20T14:06:41.760763Z",
     "shell.execute_reply": "2023-08-20T14:06:41.759957Z",
     "shell.execute_reply.started": "2023-08-20T14:06:41.743020Z"
    },
    "papermill": {
     "duration": null,
     "end_time": null,
     "exception": null,
     "start_time": null,
     "status": "pending"
    },
    "tags": []
   },
   "outputs": [],
   "source": [
    "# Prediction with Decision tree using final test data set\n",
    "dtpred_final = dtclassifier.predict(X_final)\n",
    "print(dtpred_final)"
   ]
  },
  {
   "cell_type": "code",
   "execution_count": null,
   "id": "a3446704",
   "metadata": {
    "execution": {
     "iopub.execute_input": "2023-08-20T14:06:41.762596Z",
     "iopub.status.busy": "2023-08-20T14:06:41.762262Z",
     "iopub.status.idle": "2023-08-20T14:06:41.893389Z",
     "shell.execute_reply": "2023-08-20T14:06:41.892231Z",
     "shell.execute_reply.started": "2023-08-20T14:06:41.762560Z"
    },
    "papermill": {
     "duration": null,
     "end_time": null,
     "exception": null,
     "start_time": null,
     "status": "pending"
    },
    "tags": []
   },
   "outputs": [],
   "source": [
    "#  Converting dtpred_final from Np to DF\n",
    "predictions_col_dt = pd.DataFrame()\n",
    "predictions_col_dt['Admission flag'] = dtpred_final.tolist()\n",
    "\n",
    "\n",
    "# adding predictions to test data\n",
    "# df_out = pd.merge(df_data, predictions_col, left_index = True, right_index = True)\n",
    "# df_out\n",
    "df_out_dt = pd.merge(X_final, predictions_col_dt, left_index = True, right_index = True)\n",
    "\n",
    "# Make the record id into a dataframe\n",
    "record_f = pd.DataFrame()\n",
    "record_f[\"record id\"] = ae3[\"record_id\"].tolist()\n",
    "\n",
    "# Merge the record id into the existing dataframe\n",
    "dt_prediction_file = pd.merge(df_out_dt, record_f, left_index = True, right_index = True)\n",
    "\n",
    "# Subset the skinny dataframe\n",
    "ae_dt_skinny = dt_prediction_file.loc[:, [\"record id\", \"Admission flag\"]]\n",
    "print(ae_dt_skinny)"
   ]
  },
  {
   "cell_type": "code",
   "execution_count": null,
   "id": "0607a764",
   "metadata": {
    "execution": {
     "iopub.execute_input": "2023-08-20T14:06:41.895581Z",
     "iopub.status.busy": "2023-08-20T14:06:41.895137Z",
     "iopub.status.idle": "2023-08-20T14:06:54.973351Z",
     "shell.execute_reply": "2023-08-20T14:06:54.971986Z",
     "shell.execute_reply.started": "2023-08-20T14:06:41.895541Z"
    },
    "papermill": {
     "duration": null,
     "end_time": null,
     "exception": null,
     "start_time": null,
     "status": "pending"
    },
    "tags": []
   },
   "outputs": [],
   "source": [
    "# Prediction with KNN using final test data set\n",
    "knnpred_final = knn.predict(X_final)\n",
    "print(knnpred_final)"
   ]
  },
  {
   "cell_type": "code",
   "execution_count": null,
   "id": "23af88c3",
   "metadata": {
    "execution": {
     "iopub.execute_input": "2023-08-20T14:06:54.975222Z",
     "iopub.status.busy": "2023-08-20T14:06:54.974843Z",
     "iopub.status.idle": "2023-08-20T14:06:55.106822Z",
     "shell.execute_reply": "2023-08-20T14:06:55.105600Z",
     "shell.execute_reply.started": "2023-08-20T14:06:54.975188Z"
    },
    "papermill": {
     "duration": null,
     "end_time": null,
     "exception": null,
     "start_time": null,
     "status": "pending"
    },
    "tags": []
   },
   "outputs": [],
   "source": [
    "#  Converting knnpred_final from Np to DF\n",
    "predictions_col = pd.DataFrame()\n",
    "predictions_col['Admission flag'] = knnpred_final.tolist()\n",
    "\n",
    "\n",
    "# adding predictions to test data\n",
    "# df_out = pd.merge(df_data, predictions_col, left_index = True, right_index = True)\n",
    "# df_out\n",
    "df_out_knn = pd.merge(X_final, predictions_col, left_index = True, right_index = True)\n",
    "\n",
    "# Make the record id into a dataframe\n",
    "record_f = pd.DataFrame()\n",
    "record_f[\"record id\"] = ae3[\"record_id\"].tolist()\n",
    "\n",
    "# Merge the record id into the existing dataframe\n",
    "knn_prediction_file = pd.merge(df_out_knn, record_f, left_index = True, right_index = True)\n",
    "\n",
    "# Subset the skinny dataframe\n",
    "ae_knn_skinny = knn_prediction_file.loc[:, [\"record id\", \"Admission flag\"]]\n",
    "print(ae_knn_skinny)"
   ]
  },
  {
   "cell_type": "code",
   "execution_count": null,
   "id": "33d09b35",
   "metadata": {
    "execution": {
     "iopub.execute_input": "2023-08-20T14:06:55.109023Z",
     "iopub.status.busy": "2023-08-20T14:06:55.108506Z",
     "iopub.status.idle": "2023-08-20T14:06:55.770669Z",
     "shell.execute_reply": "2023-08-20T14:06:55.769479Z",
     "shell.execute_reply.started": "2023-08-20T14:06:55.108982Z"
    },
    "papermill": {
     "duration": null,
     "end_time": null,
     "exception": null,
     "start_time": null,
     "status": "pending"
    },
    "tags": []
   },
   "outputs": [],
   "source": [
    "# Prediction with KNN using final test data set\n",
    "rf_pred_final = rf.predict(X_final)\n",
    "print(rf_pred_final)"
   ]
  },
  {
   "cell_type": "code",
   "execution_count": null,
   "id": "d04758cf",
   "metadata": {
    "execution": {
     "iopub.execute_input": "2023-08-20T14:06:55.772245Z",
     "iopub.status.busy": "2023-08-20T14:06:55.771911Z",
     "iopub.status.idle": "2023-08-20T14:06:55.901884Z",
     "shell.execute_reply": "2023-08-20T14:06:55.900761Z",
     "shell.execute_reply.started": "2023-08-20T14:06:55.772216Z"
    },
    "papermill": {
     "duration": null,
     "end_time": null,
     "exception": null,
     "start_time": null,
     "status": "pending"
    },
    "tags": []
   },
   "outputs": [],
   "source": [
    "#  Converting random forrest rf_pred_final from Np to DF\n",
    "predictions_col_rf = pd.DataFrame()\n",
    "predictions_col_rf['Admitted_flag'] = rf_pred_final.tolist()\n",
    "\n",
    "\n",
    "# adding predictions to test data\n",
    "# df_out = pd.merge(df_data, predictions_col, left_index = True, right_index = True)\n",
    "# df_out\n",
    "df_out_rf = pd.merge(X_final, predictions_col_rf, left_index = True, right_index = True)\n",
    "\n",
    "# Make the record id into a dataframe\n",
    "record_rf = pd.DataFrame()\n",
    "record_rf[\"Record_ID\"] = ae3[\"record_id\"].tolist()\n",
    "\n",
    "# Merge the record id into the existing dataframe\n",
    "rf_prediction_file = pd.merge(df_out_rf, record_rf, left_index = True, right_index = True)\n",
    "\n",
    "# Subset the skinny dataframe\n",
    "ae_rf_skinny = rf_prediction_file.loc[:, [\"Record_ID\", \"Admitted_flag\"]]\n",
    "print(ae_rf_skinny)"
   ]
  },
  {
   "cell_type": "code",
   "execution_count": null,
   "id": "46f09aee",
   "metadata": {
    "execution": {
     "iopub.execute_input": "2023-08-20T14:06:55.903801Z",
     "iopub.status.busy": "2023-08-20T14:06:55.903331Z",
     "iopub.status.idle": "2023-08-20T14:06:56.025333Z",
     "shell.execute_reply": "2023-08-20T14:06:56.024142Z",
     "shell.execute_reply.started": "2023-08-20T14:06:55.903764Z"
    },
    "papermill": {
     "duration": null,
     "end_time": null,
     "exception": null,
     "start_time": null,
     "status": "pending"
    },
    "tags": []
   },
   "outputs": [],
   "source": [
    "# converting to csv\n",
    "ae_rf_skinny.to_csv('Test dataset plus admission flag rf.csv', index=False)"
   ]
  }
 ],
 "metadata": {
  "kernelspec": {
   "display_name": "Python 3",
   "language": "python",
   "name": "python3"
  },
  "language_info": {
   "codemirror_mode": {
    "name": "ipython",
    "version": 3
   },
   "file_extension": ".py",
   "mimetype": "text/x-python",
   "name": "python",
   "nbconvert_exporter": "python",
   "pygments_lexer": "ipython3",
   "version": "3.10.12"
  },
  "papermill": {
   "default_parameters": {},
   "duration": 125.903724,
   "end_time": "2023-08-20T14:09:17.411069",
   "environment_variables": {},
   "exception": true,
   "input_path": "__notebook__.ipynb",
   "output_path": "__notebook__.ipynb",
   "parameters": {},
   "start_time": "2023-08-20T14:07:11.507345",
   "version": "2.4.0"
  }
 },
 "nbformat": 4,
 "nbformat_minor": 5
}
